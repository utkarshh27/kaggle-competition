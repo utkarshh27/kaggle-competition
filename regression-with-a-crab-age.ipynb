{
 "cells": [
  {
   "cell_type": "code",
   "execution_count": 1,
   "id": "116128bd",
   "metadata": {
    "execution": {
     "iopub.execute_input": "2023-07-01T15:51:10.520264Z",
     "iopub.status.busy": "2023-07-01T15:51:10.519276Z",
     "iopub.status.idle": "2023-07-01T15:51:10.538937Z",
     "shell.execute_reply": "2023-07-01T15:51:10.537747Z"
    },
    "papermill": {
     "duration": 0.031088,
     "end_time": "2023-07-01T15:51:10.541512",
     "exception": false,
     "start_time": "2023-07-01T15:51:10.510424",
     "status": "completed"
    },
    "tags": []
   },
   "outputs": [
    {
     "name": "stdout",
     "output_type": "stream",
     "text": [
      "/kaggle/input/crab-age-prediction/CrabAgePrediction.csv\n",
      "/kaggle/input/playground-series-s3e16/sample_submission.csv\n",
      "/kaggle/input/playground-series-s3e16/train.csv\n",
      "/kaggle/input/playground-series-s3e16/test.csv\n"
     ]
    }
   ],
   "source": [
    "import os\n",
    "for dirname, _, filenames in os.walk('/kaggle/input'):\n",
    "    for filename in filenames:\n",
    "        print(os.path.join(dirname, filename))"
   ]
  },
  {
   "cell_type": "code",
   "execution_count": 2,
   "id": "29eba219",
   "metadata": {
    "execution": {
     "iopub.execute_input": "2023-07-01T15:51:10.554508Z",
     "iopub.status.busy": "2023-07-01T15:51:10.554128Z",
     "iopub.status.idle": "2023-07-01T15:51:13.852297Z",
     "shell.execute_reply": "2023-07-01T15:51:13.851077Z"
    },
    "papermill": {
     "duration": 3.307788,
     "end_time": "2023-07-01T15:51:13.855118",
     "exception": false,
     "start_time": "2023-07-01T15:51:10.547330",
     "status": "completed"
    },
    "tags": []
   },
   "outputs": [],
   "source": [
    "import numpy as np\n",
    "import pandas as pd\n",
    "\n",
    "from matplotlib import pyplot as plt\n",
    "import seaborn as sns\n",
    "\n",
    "from sklearn.preprocessing import MinMaxScaler, PowerTransformer\n",
    "from sklearn.decomposition import TruncatedSVD\n",
    "from sklearn.preprocessing import FunctionTransformer\n",
    "\n",
    "from scipy.stats.mstats import winsorize\n",
    "from sklearn.preprocessing import StandardScaler,LabelEncoder\n",
    "from sklearn.linear_model import LinearRegression\n",
    "from sklearn.linear_model import LogisticRegression\n",
    "from sklearn.svm import SVR\n",
    "\n",
    "from sklearn.tree import DecisionTreeRegressor\n",
    "from sklearn.ensemble import RandomForestRegressor\n",
    "from sklearn.metrics import mean_squared_error, mean_absolute_error\n",
    "from xgboost import XGBRegressor\n",
    "from catboost import CatBoostRegressor as cbr\n",
    "from lightgbm import LGBMRegressor as lgbmr\n",
    "from sklearn.model_selection import train_test_split, cross_val_score\n",
    "from sklearn.metrics import accuracy_score, confusion_matrix, classification_report, roc_curve, auc, precision_recall_curve\n",
    "from sklearn.model_selection import RandomizedSearchCV\n",
    "import lightgbm as lgb\n",
    "\n",
    "from sklearn.model_selection import KFold\n",
    "from scipy.stats import uniform, loguniform, randint\n",
    "from sklearn.metrics import mean_absolute_error"
   ]
  },
  {
   "cell_type": "code",
   "execution_count": 3,
   "id": "ffe82950",
   "metadata": {
    "execution": {
     "iopub.execute_input": "2023-07-01T15:51:13.868328Z",
     "iopub.status.busy": "2023-07-01T15:51:13.867360Z",
     "iopub.status.idle": "2023-07-01T15:51:14.158758Z",
     "shell.execute_reply": "2023-07-01T15:51:14.157828Z"
    },
    "papermill": {
     "duration": 0.300775,
     "end_time": "2023-07-01T15:51:14.161508",
     "exception": false,
     "start_time": "2023-07-01T15:51:13.860733",
     "status": "completed"
    },
    "tags": []
   },
   "outputs": [],
   "source": [
    "train = pd.read_csv('/kaggle/input/playground-series-s3e16/train.csv')\n",
    "test = pd.read_csv('/kaggle/input/playground-series-s3e16/test.csv')\n",
    "sub = pd.read_csv('/kaggle/input/playground-series-s3e16/sample_submission.csv')\n",
    "#add = pd.read_csv('/kaggle/input/crab-age-prediction/CrabAgePrediction.csv')"
   ]
  },
  {
   "cell_type": "code",
   "execution_count": 4,
   "id": "2342037a",
   "metadata": {
    "execution": {
     "iopub.execute_input": "2023-07-01T15:51:14.174506Z",
     "iopub.status.busy": "2023-07-01T15:51:14.174101Z",
     "iopub.status.idle": "2023-07-01T15:51:14.178527Z",
     "shell.execute_reply": "2023-07-01T15:51:14.177409Z"
    },
    "papermill": {
     "duration": 0.013381,
     "end_time": "2023-07-01T15:51:14.180632",
     "exception": false,
     "start_time": "2023-07-01T15:51:14.167251",
     "status": "completed"
    },
    "tags": []
   },
   "outputs": [],
   "source": [
    "#train = pd.concat([train1, add])"
   ]
  },
  {
   "cell_type": "code",
   "execution_count": 5,
   "id": "cd8b07fa",
   "metadata": {
    "execution": {
     "iopub.execute_input": "2023-07-01T15:51:14.194755Z",
     "iopub.status.busy": "2023-07-01T15:51:14.194349Z",
     "iopub.status.idle": "2023-07-01T15:51:14.336027Z",
     "shell.execute_reply": "2023-07-01T15:51:14.335269Z"
    },
    "papermill": {
     "duration": 0.151677,
     "end_time": "2023-07-01T15:51:14.337952",
     "exception": false,
     "start_time": "2023-07-01T15:51:14.186275",
     "status": "completed"
    },
    "tags": []
   },
   "outputs": [
    {
     "name": "stdout",
     "output_type": "stream",
     "text": [
      "data shape: (74051, 10)\n"
     ]
    },
    {
     "data": {
      "text/html": [
       "<div>\n",
       "<style scoped>\n",
       "    .dataframe tbody tr th:only-of-type {\n",
       "        vertical-align: middle;\n",
       "    }\n",
       "\n",
       "    .dataframe tbody tr th {\n",
       "        vertical-align: top;\n",
       "    }\n",
       "\n",
       "    .dataframe thead th {\n",
       "        text-align: right;\n",
       "    }\n",
       "</style>\n",
       "<table border=\"1\" class=\"dataframe\">\n",
       "  <thead>\n",
       "    <tr style=\"text-align: right;\">\n",
       "      <th></th>\n",
       "      <th>data type</th>\n",
       "      <th>#missing</th>\n",
       "      <th>%missing</th>\n",
       "      <th>#unique</th>\n",
       "      <th>min</th>\n",
       "      <th>max</th>\n",
       "    </tr>\n",
       "  </thead>\n",
       "  <tbody>\n",
       "    <tr>\n",
       "      <th>id</th>\n",
       "      <td>int64</td>\n",
       "      <td>0</td>\n",
       "      <td>0.0</td>\n",
       "      <td>74051</td>\n",
       "      <td>0.0</td>\n",
       "      <td>74050.0</td>\n",
       "    </tr>\n",
       "    <tr>\n",
       "      <th>Sex</th>\n",
       "      <td>object</td>\n",
       "      <td>0</td>\n",
       "      <td>0.0</td>\n",
       "      <td>3</td>\n",
       "      <td>NaN</td>\n",
       "      <td>NaN</td>\n",
       "    </tr>\n",
       "    <tr>\n",
       "      <th>Length</th>\n",
       "      <td>float64</td>\n",
       "      <td>0</td>\n",
       "      <td>0.0</td>\n",
       "      <td>144</td>\n",
       "      <td>0.1875</td>\n",
       "      <td>2.012815</td>\n",
       "    </tr>\n",
       "    <tr>\n",
       "      <th>Diameter</th>\n",
       "      <td>float64</td>\n",
       "      <td>0</td>\n",
       "      <td>0.0</td>\n",
       "      <td>122</td>\n",
       "      <td>0.1375</td>\n",
       "      <td>1.6125</td>\n",
       "    </tr>\n",
       "    <tr>\n",
       "      <th>Height</th>\n",
       "      <td>float64</td>\n",
       "      <td>0</td>\n",
       "      <td>0.0</td>\n",
       "      <td>65</td>\n",
       "      <td>0.0</td>\n",
       "      <td>2.825</td>\n",
       "    </tr>\n",
       "    <tr>\n",
       "      <th>Weight</th>\n",
       "      <td>float64</td>\n",
       "      <td>0</td>\n",
       "      <td>0.0</td>\n",
       "      <td>3096</td>\n",
       "      <td>0.056699</td>\n",
       "      <td>80.101512</td>\n",
       "    </tr>\n",
       "    <tr>\n",
       "      <th>Shucked Weight</th>\n",
       "      <td>float64</td>\n",
       "      <td>0</td>\n",
       "      <td>0.0</td>\n",
       "      <td>1766</td>\n",
       "      <td>0.028349</td>\n",
       "      <td>42.184056</td>\n",
       "    </tr>\n",
       "    <tr>\n",
       "      <th>Viscera Weight</th>\n",
       "      <td>float64</td>\n",
       "      <td>0</td>\n",
       "      <td>0.0</td>\n",
       "      <td>967</td>\n",
       "      <td>0.042524</td>\n",
       "      <td>21.54562</td>\n",
       "    </tr>\n",
       "    <tr>\n",
       "      <th>Shell Weight</th>\n",
       "      <td>float64</td>\n",
       "      <td>0</td>\n",
       "      <td>0.0</td>\n",
       "      <td>1048</td>\n",
       "      <td>0.042524</td>\n",
       "      <td>28.491248</td>\n",
       "    </tr>\n",
       "    <tr>\n",
       "      <th>Age</th>\n",
       "      <td>int64</td>\n",
       "      <td>0</td>\n",
       "      <td>0.0</td>\n",
       "      <td>28</td>\n",
       "      <td>1.0</td>\n",
       "      <td>29.0</td>\n",
       "    </tr>\n",
       "  </tbody>\n",
       "</table>\n",
       "</div>"
      ],
      "text/plain": [
       "               data type  #missing  %missing  #unique       min        max\n",
       "id                 int64         0       0.0    74051       0.0    74050.0\n",
       "Sex               object         0       0.0        3       NaN        NaN\n",
       "Length           float64         0       0.0      144    0.1875   2.012815\n",
       "Diameter         float64         0       0.0      122    0.1375     1.6125\n",
       "Height           float64         0       0.0       65       0.0      2.825\n",
       "Weight           float64         0       0.0     3096  0.056699  80.101512\n",
       "Shucked Weight   float64         0       0.0     1766  0.028349  42.184056\n",
       "Viscera Weight   float64         0       0.0      967  0.042524   21.54562\n",
       "Shell Weight     float64         0       0.0     1048  0.042524  28.491248\n",
       "Age                int64         0       0.0       28       1.0       29.0"
      ]
     },
     "execution_count": 5,
     "metadata": {},
     "output_type": "execute_result"
    }
   ],
   "source": [
    "def summary(df):\n",
    "    print(f'data shape: {df.shape}')  \n",
    "    summ = pd.DataFrame(df.dtypes, columns=['data type'])\n",
    "    summ['#missing'] = df.isnull().sum().values \n",
    "    summ['%missing'] = df.isnull().sum().values / len(df)* 100\n",
    "    summ['#unique'] = df.nunique().values\n",
    "    desc = pd.DataFrame(df.describe(include='all').transpose())\n",
    "    summ['min'] = desc['min'].values\n",
    "    summ['max'] = desc['max'].values\n",
    "    \n",
    "    return summ\n",
    "\n",
    "summary(train)"
   ]
  },
  {
   "cell_type": "code",
   "execution_count": 6,
   "id": "b8190db3",
   "metadata": {
    "execution": {
     "iopub.execute_input": "2023-07-01T15:51:14.350628Z",
     "iopub.status.busy": "2023-07-01T15:51:14.350262Z",
     "iopub.status.idle": "2023-07-01T15:51:14.355225Z",
     "shell.execute_reply": "2023-07-01T15:51:14.354219Z"
    },
    "papermill": {
     "duration": 0.013502,
     "end_time": "2023-07-01T15:51:14.357123",
     "exception": false,
     "start_time": "2023-07-01T15:51:14.343621",
     "status": "completed"
    },
    "tags": []
   },
   "outputs": [],
   "source": [
    "category_cols = train.columns[1]\n",
    "numeric_cols = train.columns[2:9].tolist()\n",
    "all_columns = [category_cols] + numeric_cols\n",
    "target = \"Age\""
   ]
  },
  {
   "cell_type": "code",
   "execution_count": 7,
   "id": "563dbf30",
   "metadata": {
    "execution": {
     "iopub.execute_input": "2023-07-01T15:51:14.370118Z",
     "iopub.status.busy": "2023-07-01T15:51:14.369753Z",
     "iopub.status.idle": "2023-07-01T15:51:14.392226Z",
     "shell.execute_reply": "2023-07-01T15:51:14.391224Z"
    },
    "papermill": {
     "duration": 0.031733,
     "end_time": "2023-07-01T15:51:14.394743",
     "exception": false,
     "start_time": "2023-07-01T15:51:14.363010",
     "status": "completed"
    },
    "tags": []
   },
   "outputs": [],
   "source": [
    "df_original = train.copy(deep = True)\n",
    "train = df_original\n",
    "\n",
    "X = train[all_columns].copy(deep = True)\n",
    "y = train[target].copy(deep = True)\n",
    "\n",
    "X_test = test[all_columns].copy(deep = True)"
   ]
  },
  {
   "cell_type": "code",
   "execution_count": 8,
   "id": "fad4b923",
   "metadata": {
    "execution": {
     "iopub.execute_input": "2023-07-01T15:51:14.409077Z",
     "iopub.status.busy": "2023-07-01T15:51:14.408162Z",
     "iopub.status.idle": "2023-07-01T15:51:14.455785Z",
     "shell.execute_reply": "2023-07-01T15:51:14.454803Z"
    },
    "papermill": {
     "duration": 0.057057,
     "end_time": "2023-07-01T15:51:14.457999",
     "exception": false,
     "start_time": "2023-07-01T15:51:14.400942",
     "status": "completed"
    },
    "tags": []
   },
   "outputs": [
    {
     "data": {
      "text/plain": [
       "(0, 0)"
      ]
     },
     "execution_count": 8,
     "metadata": {},
     "output_type": "execute_result"
    }
   ],
   "source": [
    "X.duplicated().sum(), X_test.duplicated().sum()"
   ]
  },
  {
   "cell_type": "code",
   "execution_count": 9,
   "id": "b8f55c62",
   "metadata": {
    "execution": {
     "iopub.execute_input": "2023-07-01T15:51:14.471259Z",
     "iopub.status.busy": "2023-07-01T15:51:14.470848Z",
     "iopub.status.idle": "2023-07-01T15:51:14.484555Z",
     "shell.execute_reply": "2023-07-01T15:51:14.483277Z"
    },
    "papermill": {
     "duration": 0.022938,
     "end_time": "2023-07-01T15:51:14.486802",
     "exception": false,
     "start_time": "2023-07-01T15:51:14.463864",
     "status": "completed"
    },
    "tags": []
   },
   "outputs": [
    {
     "name": "stdout",
     "output_type": "stream",
     "text": [
      "Before: [0.     0.0125] [0.    0.025]\n",
      "After adjustment: [0.0125 0.025 ] [0.0125 0.025 ]\n"
     ]
    }
   ],
   "source": [
    "print(\"Before:\", np.sort(X[\"Height\"].unique())[:2], np.sort(X_test[\"Height\"].unique())[:2])\n",
    "second_smallest = np.sort(X[\"Height\"].unique())[1]\n",
    "X.loc[X[\"Height\"] < second_smallest, \"Height\"] = second_smallest\n",
    "X_test.loc[X_test[\"Height\"] < second_smallest, \"Height\"] = second_smallest\n",
    "\n",
    "print(\"After adjustment:\",np.sort(X[\"Height\"].unique())[:2], np.sort(X_test[\"Height\"].unique())[:2])"
   ]
  },
  {
   "cell_type": "code",
   "execution_count": 10,
   "id": "b85dbdea",
   "metadata": {
    "execution": {
     "iopub.execute_input": "2023-07-01T15:51:14.500449Z",
     "iopub.status.busy": "2023-07-01T15:51:14.500054Z",
     "iopub.status.idle": "2023-07-01T15:51:14.526998Z",
     "shell.execute_reply": "2023-07-01T15:51:14.526138Z"
    },
    "papermill": {
     "duration": 0.036496,
     "end_time": "2023-07-01T15:51:14.529404",
     "exception": false,
     "start_time": "2023-07-01T15:51:14.492908",
     "status": "completed"
    },
    "tags": []
   },
   "outputs": [],
   "source": [
    "X = pd.get_dummies(X)\n",
    "X_test = pd.get_dummies(X_test)"
   ]
  },
  {
   "cell_type": "code",
   "execution_count": 11,
   "id": "842b121c",
   "metadata": {
    "execution": {
     "iopub.execute_input": "2023-07-01T15:51:14.544566Z",
     "iopub.status.busy": "2023-07-01T15:51:14.543430Z",
     "iopub.status.idle": "2023-07-01T15:51:14.550774Z",
     "shell.execute_reply": "2023-07-01T15:51:14.550046Z"
    },
    "papermill": {
     "duration": 0.016591,
     "end_time": "2023-07-01T15:51:14.552838",
     "exception": false,
     "start_time": "2023-07-01T15:51:14.536247",
     "status": "completed"
    },
    "tags": []
   },
   "outputs": [],
   "source": [
    "def feat_engineering(input_df):\n",
    "    temp_df = input_df.copy(deep = True)\n",
    "    \n",
    "    temp_df[\"BMI\"] = temp_df[\"Weight\"]/(temp_df[\"Height\"] * temp_df[\"Height\"])\n",
    "    temp_df[\"Body_Volume\"] = temp_df[\"Diameter\"] * temp_df[\"Height\"] * temp_df[\"Length\"]\n",
    "    temp_df[\"Body_Density\"] = temp_df[\"Weight\"] / temp_df[\"Body_Volume\"]\n",
    "    \n",
    "    temp_df[\"Shell_Area_Density\"] = temp_df[\"Shell Weight\"] / (temp_df[\"Length\"] * temp_df[\"Diameter\"])\n",
    "    temp_df[\"Shell_Mass_Index\"] = temp_df[\"Shell Weight\"] / (temp_df[\"Length\"] * temp_df[\"Diameter\"]) ** 2\n",
    "    \n",
    "    temp_df[\"Ratio_Shucked_Weight\"] = temp_df[\"Shucked Weight\"] / temp_df[\"Weight\"]\n",
    "    temp_df[\"Ratio_Shell_Weight\"] = temp_df[\"Shell Weight\"] / temp_df[\"Weight\"]\n",
    "    temp_df[\"Ratio_Viscera_Weight\"] = temp_df[\"Viscera Weight\"] / temp_df[\"Weight\"]\n",
    "    \n",
    "    return temp_df"
   ]
  },
  {
   "cell_type": "code",
   "execution_count": 12,
   "id": "c7540471",
   "metadata": {
    "execution": {
     "iopub.execute_input": "2023-07-01T15:51:14.567093Z",
     "iopub.status.busy": "2023-07-01T15:51:14.566138Z",
     "iopub.status.idle": "2023-07-01T15:51:14.587468Z",
     "shell.execute_reply": "2023-07-01T15:51:14.586514Z"
    },
    "papermill": {
     "duration": 0.03098,
     "end_time": "2023-07-01T15:51:14.589953",
     "exception": false,
     "start_time": "2023-07-01T15:51:14.558973",
     "status": "completed"
    },
    "tags": []
   },
   "outputs": [],
   "source": [
    "X_feat = feat_engineering(X)\n",
    "X_test_feat = feat_engineering(X_test)"
   ]
  },
  {
   "cell_type": "code",
   "execution_count": 13,
   "id": "2c7bc44b",
   "metadata": {
    "execution": {
     "iopub.execute_input": "2023-07-01T15:51:14.603626Z",
     "iopub.status.busy": "2023-07-01T15:51:14.603246Z",
     "iopub.status.idle": "2023-07-01T15:51:14.808577Z",
     "shell.execute_reply": "2023-07-01T15:51:14.807733Z"
    },
    "papermill": {
     "duration": 0.214979,
     "end_time": "2023-07-01T15:51:14.810958",
     "exception": false,
     "start_time": "2023-07-01T15:51:14.595979",
     "status": "completed"
    },
    "tags": []
   },
   "outputs": [],
   "source": [
    "for col in X_feat:\n",
    "    X_feat.loc[:,col] = winsorize(X_feat[col], (0.02, 0.02))\n",
    "    X_test_feat.loc[:,col] = winsorize(X_test_feat[col], (0.02, 0.02))"
   ]
  },
  {
   "cell_type": "code",
   "execution_count": 14,
   "id": "e7a89868",
   "metadata": {
    "execution": {
     "iopub.execute_input": "2023-07-01T15:51:14.824667Z",
     "iopub.status.busy": "2023-07-01T15:51:14.824290Z",
     "iopub.status.idle": "2023-07-01T15:51:15.225755Z",
     "shell.execute_reply": "2023-07-01T15:51:15.224671Z"
    },
    "papermill": {
     "duration": 0.411034,
     "end_time": "2023-07-01T15:51:15.227986",
     "exception": false,
     "start_time": "2023-07-01T15:51:14.816952",
     "status": "completed"
    },
    "tags": []
   },
   "outputs": [
    {
     "data": {
      "image/png": "[encoded data removed]",
      "text/plain": [
       "<Figure size 1600x300 with 3 Axes>"
      ]
     },
     "metadata": {},
     "output_type": "display_data"
    }
   ],
   "source": [
    "fig, axes = plt.subplots(1, 3, figsize = (16,3))\n",
    "fig.suptitle('Before Winsorization:')\n",
    "for start, i in enumerate(train.columns[2:5]):\n",
    "    sns.boxplot(data = train, x = i, ax = axes[start%3])\n",
    "plt.show()"
   ]
  },
  {
   "cell_type": "code",
   "execution_count": 15,
   "id": "52607cd7",
   "metadata": {
    "execution": {
     "iopub.execute_input": "2023-07-01T15:51:15.242601Z",
     "iopub.status.busy": "2023-07-01T15:51:15.242199Z",
     "iopub.status.idle": "2023-07-01T15:51:15.605371Z",
     "shell.execute_reply": "2023-07-01T15:51:15.604357Z"
    },
    "papermill": {
     "duration": 0.373046,
     "end_time": "2023-07-01T15:51:15.607502",
     "exception": false,
     "start_time": "2023-07-01T15:51:15.234456",
     "status": "completed"
    },
    "tags": []
   },
   "outputs": [
    {
     "data": {
      "image/png": "[encoded data removed]",
      "text/plain": [
       "<Figure size 1600x300 with 3 Axes>"
      ]
     },
     "metadata": {},
     "output_type": "display_data"
    }
   ],
   "source": [
    "fig, axes = plt.subplots(1, 3, figsize = (16,3))\n",
    "fig.suptitle('After winsorization:')\n",
    "for start, i in enumerate(X_feat.columns[:3]):\n",
    "    sns.boxplot(data = X_feat, x = i, ax = axes[start%3])\n",
    "plt.show()"
   ]
  },
  {
   "cell_type": "code",
   "execution_count": 16,
   "id": "d31d58e8",
   "metadata": {
    "execution": {
     "iopub.execute_input": "2023-07-01T15:51:15.622829Z",
     "iopub.status.busy": "2023-07-01T15:51:15.622444Z",
     "iopub.status.idle": "2023-07-01T15:51:15.652110Z",
     "shell.execute_reply": "2023-07-01T15:51:15.650848Z"
    },
    "papermill": {
     "duration": 0.03984,
     "end_time": "2023-07-01T15:51:15.654361",
     "exception": false,
     "start_time": "2023-07-01T15:51:15.614521",
     "status": "completed"
    },
    "tags": []
   },
   "outputs": [
    {
     "name": "stdout",
     "output_type": "stream",
     "text": [
      "(68867, 18) (5184, 18)\n"
     ]
    }
   ],
   "source": [
    "X_train, X_test, y_train, y_test = train_test_split(X_feat, y, test_size=0.07, random_state=42)\n",
    "print(X_train.shape, X_test.shape)"
   ]
  },
  {
   "cell_type": "code",
   "execution_count": 17,
   "id": "3f94d95b",
   "metadata": {
    "execution": {
     "iopub.execute_input": "2023-07-01T15:51:15.671427Z",
     "iopub.status.busy": "2023-07-01T15:51:15.671026Z",
     "iopub.status.idle": "2023-07-01T15:51:23.156880Z",
     "shell.execute_reply": "2023-07-01T15:51:23.156030Z"
    },
    "papermill": {
     "duration": 7.498164,
     "end_time": "2023-07-01T15:51:23.159351",
     "exception": false,
     "start_time": "2023-07-01T15:51:15.661187",
     "status": "completed"
    },
    "tags": []
   },
   "outputs": [
    {
     "name": "stdout",
     "output_type": "stream",
     "text": [
      "MAE : 1.4247962376217784\n"
     ]
    }
   ],
   "source": [
    "xgbr = XGBRegressor()\n",
    "xgbr.fit(X_train,y_train)\n",
    "xgbr_pred = xgbr.predict(X_test)\n",
    "print(\"MAE :\", mean_absolute_error(y_test,xgbr_pred))"
   ]
  },
  {
   "cell_type": "code",
   "execution_count": 18,
   "id": "6265052c",
   "metadata": {
    "execution": {
     "iopub.execute_input": "2023-07-01T15:51:23.175010Z",
     "iopub.status.busy": "2023-07-01T15:51:23.174393Z",
     "iopub.status.idle": "2023-07-01T15:51:55.896526Z",
     "shell.execute_reply": "2023-07-01T15:51:55.895484Z"
    },
    "papermill": {
     "duration": 32.739406,
     "end_time": "2023-07-01T15:51:55.905584",
     "exception": false,
     "start_time": "2023-07-01T15:51:23.166178",
     "status": "completed"
    },
    "tags": []
   },
   "outputs": [
    {
     "data": {
      "text/plain": [
       "1.3539737654320987"
      ]
     },
     "execution_count": 18,
     "metadata": {},
     "output_type": "execute_result"
    }
   ],
   "source": [
    "from xgboost import XGBRegressor\n",
    "from sklearn.metrics import mean_absolute_error\n",
    "\n",
    "model_grid = XGBRegressor(n_estimators=330 , \n",
    "                          learning_rate=0.01 ,\n",
    "                          max_depth=7)\n",
    "\n",
    "model_grid.fit(X_train, y_train)\n",
    "y_pred_xgb_grid_sub = model_grid.predict(X_test)\n",
    "\n",
    "mae_xgb_grid = mean_absolute_error(y_test, [i+0.001 if i == 10 else round(i) for i in y_pred_xgb_grid_sub])\n",
    "mae_xgb_grid"
   ]
  },
  {
   "cell_type": "code",
   "execution_count": 19,
   "id": "52dfa4c3",
   "metadata": {
    "execution": {
     "iopub.execute_input": "2023-07-01T15:51:55.920756Z",
     "iopub.status.busy": "2023-07-01T15:51:55.920386Z",
     "iopub.status.idle": "2023-07-01T15:52:28.564466Z",
     "shell.execute_reply": "2023-07-01T15:52:28.563440Z"
    },
    "papermill": {
     "duration": 32.658704,
     "end_time": "2023-07-01T15:52:28.571100",
     "exception": false,
     "start_time": "2023-07-01T15:51:55.912396",
     "status": "completed"
    },
    "tags": []
   },
   "outputs": [
    {
     "data": {
      "text/plain": [
       "array([ 7.381752,  7.642722, 10.281422, ..., 12.699353,  9.688964,\n",
       "       11.181508], dtype=float32)"
      ]
     },
     "execution_count": 19,
     "metadata": {},
     "output_type": "execute_result"
    }
   ],
   "source": [
    "model_grid = XGBRegressor(n_estimators=330 , \n",
    "                          learning_rate=0.01 ,\n",
    "                          max_depth=7)\n",
    "model_grid.fit(X_train, y_train)\n",
    "y_pred_xgb_grid_sub = model_grid.predict(X_test_feat)\n",
    "y_pred_xgb_grid_sub"
   ]
  },
  {
   "cell_type": "code",
   "execution_count": 20,
   "id": "12670d4e",
   "metadata": {
    "execution": {
     "iopub.execute_input": "2023-07-01T15:52:28.586130Z",
     "iopub.status.busy": "2023-07-01T15:52:28.585603Z",
     "iopub.status.idle": "2023-07-01T15:52:28.674906Z",
     "shell.execute_reply": "2023-07-01T15:52:28.673872Z"
    },
    "papermill": {
     "duration": 0.09931,
     "end_time": "2023-07-01T15:52:28.677056",
     "exception": false,
     "start_time": "2023-07-01T15:52:28.577746",
     "status": "completed"
    },
    "tags": []
   },
   "outputs": [
    {
     "data": {
      "text/html": [
       "<div>\n",
       "<style scoped>\n",
       "    .dataframe tbody tr th:only-of-type {\n",
       "        vertical-align: middle;\n",
       "    }\n",
       "\n",
       "    .dataframe tbody tr th {\n",
       "        vertical-align: top;\n",
       "    }\n",
       "\n",
       "    .dataframe thead th {\n",
       "        text-align: right;\n",
       "    }\n",
       "</style>\n",
       "<table border=\"1\" class=\"dataframe\">\n",
       "  <thead>\n",
       "    <tr style=\"text-align: right;\">\n",
       "      <th></th>\n",
       "      <th>id</th>\n",
       "      <th>Age</th>\n",
       "    </tr>\n",
       "  </thead>\n",
       "  <tbody>\n",
       "    <tr>\n",
       "      <th>0</th>\n",
       "      <td>74051</td>\n",
       "      <td>7</td>\n",
       "    </tr>\n",
       "    <tr>\n",
       "      <th>1</th>\n",
       "      <td>74052</td>\n",
       "      <td>8</td>\n",
       "    </tr>\n",
       "    <tr>\n",
       "      <th>2</th>\n",
       "      <td>74053</td>\n",
       "      <td>10</td>\n",
       "    </tr>\n",
       "    <tr>\n",
       "      <th>3</th>\n",
       "      <td>74054</td>\n",
       "      <td>9</td>\n",
       "    </tr>\n",
       "    <tr>\n",
       "      <th>4</th>\n",
       "      <td>74055</td>\n",
       "      <td>7</td>\n",
       "    </tr>\n",
       "    <tr>\n",
       "      <th>...</th>\n",
       "      <td>...</td>\n",
       "      <td>...</td>\n",
       "    </tr>\n",
       "    <tr>\n",
       "      <th>49363</th>\n",
       "      <td>123414</td>\n",
       "      <td>9</td>\n",
       "    </tr>\n",
       "    <tr>\n",
       "      <th>49364</th>\n",
       "      <td>123415</td>\n",
       "      <td>8</td>\n",
       "    </tr>\n",
       "    <tr>\n",
       "      <th>49365</th>\n",
       "      <td>123416</td>\n",
       "      <td>13</td>\n",
       "    </tr>\n",
       "    <tr>\n",
       "      <th>49366</th>\n",
       "      <td>123417</td>\n",
       "      <td>10</td>\n",
       "    </tr>\n",
       "    <tr>\n",
       "      <th>49367</th>\n",
       "      <td>123418</td>\n",
       "      <td>11</td>\n",
       "    </tr>\n",
       "  </tbody>\n",
       "</table>\n",
       "<p>49368 rows × 2 columns</p>\n",
       "</div>"
      ],
      "text/plain": [
       "           id  Age\n",
       "0       74051    7\n",
       "1       74052    8\n",
       "2       74053   10\n",
       "3       74054    9\n",
       "4       74055    7\n",
       "...       ...  ...\n",
       "49363  123414    9\n",
       "49364  123415    8\n",
       "49365  123416   13\n",
       "49366  123417   10\n",
       "49367  123418   11\n",
       "\n",
       "[49368 rows x 2 columns]"
      ]
     },
     "execution_count": 20,
     "metadata": {},
     "output_type": "execute_result"
    }
   ],
   "source": [
    "sub['Age'] = [round(i) for i in y_pred_xgb_grid_sub]\n",
    "sub"
   ]
  },
  {
   "cell_type": "code",
   "execution_count": 21,
   "id": "2897ba35",
   "metadata": {
    "execution": {
     "iopub.execute_input": "2023-07-01T15:52:28.693218Z",
     "iopub.status.busy": "2023-07-01T15:52:28.692262Z",
     "iopub.status.idle": "2023-07-01T15:52:28.756965Z",
     "shell.execute_reply": "2023-07-01T15:52:28.756117Z"
    },
    "papermill": {
     "duration": 0.075184,
     "end_time": "2023-07-01T15:52:28.759363",
     "exception": false,
     "start_time": "2023-07-01T15:52:28.684179",
     "status": "completed"
    },
    "tags": []
   },
   "outputs": [],
   "source": [
    "sub.to_csv(\"submission15.csv\" , index=False)"
   ]
  },
  {
   "cell_type": "code",
   "execution_count": 22,
   "id": "6decff86",
   "metadata": {
    "execution": {
     "iopub.execute_input": "2023-07-01T15:52:28.775854Z",
     "iopub.status.busy": "2023-07-01T15:52:28.774913Z",
     "iopub.status.idle": "2023-07-01T15:52:28.779927Z",
     "shell.execute_reply": "2023-07-01T15:52:28.779075Z"
    },
    "papermill": {
     "duration": 0.015515,
     "end_time": "2023-07-01T15:52:28.782095",
     "exception": false,
     "start_time": "2023-07-01T15:52:28.766580",
     "status": "completed"
    },
    "tags": []
   },
   "outputs": [],
   "source": [
    "# from xgboost import XGBRegressor\n",
    "# from sklearn.metrics import mean_absolute_error\n",
    "# from sklearn.model_selection import GridSearchCV\n",
    "\n",
    "# # Define the parameter grid to search over\n",
    "# param_grid = {\n",
    "#     'n_estimators': [300, 500],\n",
    "#     'learning_rate': [0.01, 0.1],\n",
    "#     'max_depth': [5, 7, 9]\n",
    "# }\n",
    "\n",
    "# # Create an XGBoost regressor\n",
    "# model = XGBRegressor()\n",
    "\n",
    "# # Create the GridSearchCV object\n",
    "# grid_search = GridSearchCV(estimator=model, param_grid=param_grid, scoring='neg_mean_absolute_error')\n",
    "\n",
    "# # Fit the GridSearchCV object to the training data\n",
    "# grid_search.fit(X_train, y_train)\n",
    "\n",
    "# # Get the best model\n",
    "# best_model = grid_search.best_estimator_\n",
    "\n",
    "# # Make predictions on the test data using the best model\n",
    "# y_pred = best_model.predict(X_test)\n",
    "\n",
    "# # Calculate mean absolute error\n",
    "# mae = mean_absolute_error(y_test, [i + 0.001 if i == 10 else round(i) for i in y_pred])\n",
    "\n",
    "# # Print the best parameters and the resulting mean absolute error\n",
    "# print(\"Best parameters:\", grid_search.best_params_)\n",
    "# print(\"Mean Absolute Error:\", mae)"
   ]
  },
  {
   "cell_type": "code",
   "execution_count": null,
   "id": "a5558c8f",
   "metadata": {
    "papermill": {
     "duration": 0.006788,
     "end_time": "2023-07-01T15:52:28.795951",
     "exception": false,
     "start_time": "2023-07-01T15:52:28.789163",
     "status": "completed"
    },
    "tags": []
   },
   "outputs": [],
   "source": []
  }
 ],
 "metadata": {
  "kernelspec": {
   "display_name": "Python 3",
   "language": "python",
   "name": "python3"
  },
  "language_info": {
   "codemirror_mode": {
    "name": "ipython",
    "version": 3
   },
   "file_extension": ".py",
   "mimetype": "text/x-python",
   "name": "python",
   "nbconvert_exporter": "python",
   "pygments_lexer": "ipython3",
   "version": "3.10.10"
  },
  "papermill": {
   "default_parameters": {},
   "duration": 89.290207,
   "end_time": "2023-07-01T15:52:29.823001",
   "environment_variables": {},
   "exception": null,
   "input_path": "__notebook__.ipynb",
   "output_path": "__notebook__.ipynb",
   "parameters": {},
   "start_time": "2023-07-01T15:51:00.532794",
   "version": "2.4.0"
  }
 },
 "nbformat": 4,
 "nbformat_minor": 5
}
