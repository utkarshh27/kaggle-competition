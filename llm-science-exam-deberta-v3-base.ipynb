{
 "cells": [
  {
   "cell_type": "markdown",
   "id": "19e72ea4",
   "metadata": {
    "papermill": {
     "duration": 0.006636,
     "end_time": "2023-07-23T12:56:15.967945",
     "exception": false,
     "start_time": "2023-07-23T12:56:15.961309",
     "status": "completed"
    },
    "tags": []
   },
   "source": [
    "# <div style=\"padding: 40px;color:white;margin:10;font-size:90%;text-align:center;display:fill;border-radius:10px;overflow:hidden;background-image: url(https://images.rawpixel.com/image_800/cHJpdmF0ZS9sci9pbWFnZXMvd2Vic2l0ZS8yMDIyLTA1L3Vwd2s2MTkxNjM4NC13aWtpbWVkaWEtaW1hZ2Uta293ZXdrYTYuanBn.jpg)\"><b><span style='color:white'>Kaggle - LLM Science Exam (deberta-v3-base)</span></b> </div>\n",
    "***"
   ]
  },
  {
   "cell_type": "code",
   "execution_count": 1,
   "id": "bb3d740e",
   "metadata": {
    "_kg_hide-output": true,
    "execution": {
     "iopub.execute_input": "2023-07-23T12:56:15.982528Z",
     "iopub.status.busy": "2023-07-23T12:56:15.981774Z",
     "iopub.status.idle": "2023-07-23T12:56:21.315864Z",
     "shell.execute_reply": "2023-07-23T12:56:21.314731Z"
    },
    "papermill": {
     "duration": 5.34441,
     "end_time": "2023-07-23T12:56:21.318521",
     "exception": false,
     "start_time": "2023-07-23T12:56:15.974111",
     "status": "completed"
    },
    "tags": []
   },
   "outputs": [
    {
     "name": "stderr",
     "output_type": "stream",
     "text": [
      "/opt/conda/lib/python3.10/site-packages/scipy/__init__.py:146: UserWarning: A NumPy version >=1.16.5 and <1.23.0 is required for this version of SciPy (detected version 1.23.5\n",
      "  warnings.warn(f\"A NumPy version >={np_minversion} and <{np_maxversion}\"\n",
      "Special tokens have been added in the vocabulary, make sure the associated word embeddings are fine-tuned or trained.\n",
      "Special tokens have been added in the vocabulary, make sure the associated word embeddings are fine-tuned or trained.\n"
     ]
    }
   ],
   "source": [
    "import pandas as pd\n",
    "import numpy as np\n",
    "from matplotlib import pyplot as plt\n",
    "import seaborn as sns\n",
    "from transformers import AutoTokenizer\n",
    "from sklearn.preprocessing import LabelEncoder\n",
    "from transformers import AutoModel\n",
    "from datasets import Dataset\n",
    "import warnings\n",
    "warnings.filterwarnings(\"ignore\")\n",
    "\n",
    "model_name = '/kaggle/input/debertav3base'\n",
    "tokenizer = AutoTokenizer.from_pretrained(model_name)"
   ]
  },
  {
   "cell_type": "code",
   "execution_count": 2,
   "id": "6939f9a8",
   "metadata": {
    "execution": {
     "iopub.execute_input": "2023-07-23T12:56:21.336184Z",
     "iopub.status.busy": "2023-07-23T12:56:21.335547Z",
     "iopub.status.idle": "2023-07-23T12:56:21.384109Z",
     "shell.execute_reply": "2023-07-23T12:56:21.383241Z"
    },
    "papermill": {
     "duration": 0.061368,
     "end_time": "2023-07-23T12:56:21.386352",
     "exception": false,
     "start_time": "2023-07-23T12:56:21.324984",
     "status": "completed"
    },
    "tags": []
   },
   "outputs": [],
   "source": [
    "train = pd.read_csv('/kaggle/input/kaggle-llm-science-exam/train.csv').drop('id', axis = 1)\n",
    "test = pd.read_csv('/kaggle/input/kaggle-llm-science-exam/test.csv')\n",
    "sample = pd.read_csv('/kaggle/input/kaggle-llm-science-exam/sample_submission.csv')"
   ]
  },
  {
   "cell_type": "code",
   "execution_count": 3,
   "id": "3a141f4d",
   "metadata": {
    "execution": {
     "iopub.execute_input": "2023-07-23T12:56:21.400999Z",
     "iopub.status.busy": "2023-07-23T12:56:21.400123Z",
     "iopub.status.idle": "2023-07-23T12:56:21.416479Z",
     "shell.execute_reply": "2023-07-23T12:56:21.415353Z"
    },
    "papermill": {
     "duration": 0.026995,
     "end_time": "2023-07-23T12:56:21.419516",
     "exception": false,
     "start_time": "2023-07-23T12:56:21.392521",
     "status": "completed"
    },
    "tags": []
   },
   "outputs": [
    {
     "data": {
      "text/html": [
       "<div>\n",
       "<style scoped>\n",
       "    .dataframe tbody tr th:only-of-type {\n",
       "        vertical-align: middle;\n",
       "    }\n",
       "\n",
       "    .dataframe tbody tr th {\n",
       "        vertical-align: top;\n",
       "    }\n",
       "\n",
       "    .dataframe thead th {\n",
       "        text-align: right;\n",
       "    }\n",
       "</style>\n",
       "<table border=\"1\" class=\"dataframe\">\n",
       "  <thead>\n",
       "    <tr style=\"text-align: right;\">\n",
       "      <th></th>\n",
       "      <th>prompt</th>\n",
       "      <th>A</th>\n",
       "      <th>B</th>\n",
       "      <th>C</th>\n",
       "      <th>D</th>\n",
       "      <th>E</th>\n",
       "      <th>answer</th>\n",
       "    </tr>\n",
       "  </thead>\n",
       "  <tbody>\n",
       "    <tr>\n",
       "      <th>0</th>\n",
       "      <td>Which of the following statements accurately d...</td>\n",
       "      <td>MOND is a theory that reduces the observed mis...</td>\n",
       "      <td>MOND is a theory that increases the discrepanc...</td>\n",
       "      <td>MOND is a theory that explains the missing bar...</td>\n",
       "      <td>MOND is a theory that reduces the discrepancy ...</td>\n",
       "      <td>MOND is a theory that eliminates the observed ...</td>\n",
       "      <td>D</td>\n",
       "    </tr>\n",
       "    <tr>\n",
       "      <th>1</th>\n",
       "      <td>Which of the following is an accurate definiti...</td>\n",
       "      <td>Dynamic scaling refers to the evolution of sel...</td>\n",
       "      <td>Dynamic scaling refers to the non-evolution of...</td>\n",
       "      <td>Dynamic scaling refers to the evolution of sel...</td>\n",
       "      <td>Dynamic scaling refers to the non-evolution of...</td>\n",
       "      <td>Dynamic scaling refers to the evolution of sel...</td>\n",
       "      <td>A</td>\n",
       "    </tr>\n",
       "    <tr>\n",
       "      <th>2</th>\n",
       "      <td>Which of the following statements accurately d...</td>\n",
       "      <td>The triskeles symbol was reconstructed as a fe...</td>\n",
       "      <td>The triskeles symbol is a representation of th...</td>\n",
       "      <td>The triskeles symbol is a representation of a ...</td>\n",
       "      <td>The triskeles symbol represents three interloc...</td>\n",
       "      <td>The triskeles symbol is a representation of th...</td>\n",
       "      <td>A</td>\n",
       "    </tr>\n",
       "  </tbody>\n",
       "</table>\n",
       "</div>"
      ],
      "text/plain": [
       "                                              prompt  \\\n",
       "0  Which of the following statements accurately d...   \n",
       "1  Which of the following is an accurate definiti...   \n",
       "2  Which of the following statements accurately d...   \n",
       "\n",
       "                                                   A  \\\n",
       "0  MOND is a theory that reduces the observed mis...   \n",
       "1  Dynamic scaling refers to the evolution of sel...   \n",
       "2  The triskeles symbol was reconstructed as a fe...   \n",
       "\n",
       "                                                   B  \\\n",
       "0  MOND is a theory that increases the discrepanc...   \n",
       "1  Dynamic scaling refers to the non-evolution of...   \n",
       "2  The triskeles symbol is a representation of th...   \n",
       "\n",
       "                                                   C  \\\n",
       "0  MOND is a theory that explains the missing bar...   \n",
       "1  Dynamic scaling refers to the evolution of sel...   \n",
       "2  The triskeles symbol is a representation of a ...   \n",
       "\n",
       "                                                   D  \\\n",
       "0  MOND is a theory that reduces the discrepancy ...   \n",
       "1  Dynamic scaling refers to the non-evolution of...   \n",
       "2  The triskeles symbol represents three interloc...   \n",
       "\n",
       "                                                   E answer  \n",
       "0  MOND is a theory that eliminates the observed ...      D  \n",
       "1  Dynamic scaling refers to the evolution of sel...      A  \n",
       "2  The triskeles symbol is a representation of th...      A  "
      ]
     },
     "execution_count": 3,
     "metadata": {},
     "output_type": "execute_result"
    }
   ],
   "source": [
    "train.head(3)"
   ]
  },
  {
   "cell_type": "code",
   "execution_count": 4,
   "id": "d69423dd",
   "metadata": {
    "execution": {
     "iopub.execute_input": "2023-07-23T12:56:21.436389Z",
     "iopub.status.busy": "2023-07-23T12:56:21.435488Z",
     "iopub.status.idle": "2023-07-23T12:56:21.444462Z",
     "shell.execute_reply": "2023-07-23T12:56:21.443310Z"
    },
    "papermill": {
     "duration": 0.021397,
     "end_time": "2023-07-23T12:56:21.447920",
     "exception": false,
     "start_time": "2023-07-23T12:56:21.426523",
     "status": "completed"
    },
    "tags": []
   },
   "outputs": [
    {
     "data": {
      "text/html": [
       "<div>\n",
       "<style scoped>\n",
       "    .dataframe tbody tr th:only-of-type {\n",
       "        vertical-align: middle;\n",
       "    }\n",
       "\n",
       "    .dataframe tbody tr th {\n",
       "        vertical-align: top;\n",
       "    }\n",
       "\n",
       "    .dataframe thead th {\n",
       "        text-align: right;\n",
       "    }\n",
       "</style>\n",
       "<table border=\"1\" class=\"dataframe\">\n",
       "  <thead>\n",
       "    <tr style=\"text-align: right;\">\n",
       "      <th></th>\n",
       "      <th>id</th>\n",
       "      <th>prediction</th>\n",
       "    </tr>\n",
       "  </thead>\n",
       "  <tbody>\n",
       "    <tr>\n",
       "      <th>0</th>\n",
       "      <td>0</td>\n",
       "      <td>A B C</td>\n",
       "    </tr>\n",
       "    <tr>\n",
       "      <th>1</th>\n",
       "      <td>1</td>\n",
       "      <td>A B C</td>\n",
       "    </tr>\n",
       "  </tbody>\n",
       "</table>\n",
       "</div>"
      ],
      "text/plain": [
       "   id prediction\n",
       "0   0      A B C\n",
       "1   1      A B C"
      ]
     },
     "execution_count": 4,
     "metadata": {},
     "output_type": "execute_result"
    }
   ],
   "source": [
    "sample.head(2)"
   ]
  },
  {
   "cell_type": "markdown",
   "id": "889320c5",
   "metadata": {
    "papermill": {
     "duration": 0.013304,
     "end_time": "2023-07-23T12:56:21.483777",
     "exception": false,
     "start_time": "2023-07-23T12:56:21.470473",
     "status": "completed"
    },
    "tags": []
   },
   "source": [
    "# <h1 style=\"padding: 20px;color:white;margin:10;font-size:90%;text-align:left;display:fill;border-radius:14px;overflow:hidden;background-image: url(https://images.rawpixel.com/image_800/cHJpdmF0ZS9sci9pbWFnZXMvd2Vic2l0ZS8yMDIyLTA1L3Vwd2s2MTkxNjM4NC13aWtpbWVkaWEtaW1hZ2Uta293ZXdrYTYuanBn.jpg)\"><b><span style='color:white'>EDA</span></b> </h1>"
   ]
  },
  {
   "cell_type": "code",
   "execution_count": 5,
   "id": "c7dbacec",
   "metadata": {
    "execution": {
     "iopub.execute_input": "2023-07-23T12:56:21.519313Z",
     "iopub.status.busy": "2023-07-23T12:56:21.518357Z",
     "iopub.status.idle": "2023-07-23T12:56:21.531809Z",
     "shell.execute_reply": "2023-07-23T12:56:21.529813Z"
    },
    "papermill": {
     "duration": 0.033655,
     "end_time": "2023-07-23T12:56:21.535317",
     "exception": false,
     "start_time": "2023-07-23T12:56:21.501662",
     "status": "completed"
    },
    "tags": []
   },
   "outputs": [
    {
     "name": "stdout",
     "output_type": "stream",
     "text": [
      "Question:\n",
      "\tWhich of the following statements accurately describes the impact of Modified Newtonian Dynamics (MOND) on the observed \"missing baryonic mass\" discrepancy in galaxy clusters?\n",
      "\n",
      "Option_A:\n",
      "\tMOND is a theory that reduces the observed missing baryonic mass in galaxy clusters by postulating the existence of a new form of matter called \"fuzzy dark matter.\"\n",
      "\n",
      "Option_B:\n",
      "\tMOND is a theory that increases the discrepancy between the observed missing baryonic mass in galaxy clusters and the measured velocity dispersions from a factor of around 10 to a factor of about 20.\n",
      "\n",
      "Option_C:\n",
      "\tMOND is a theory that explains the missing baryonic mass in galaxy clusters that was previously considered dark matter by demonstrating that the mass is in the form of neutrinos and axions.\n",
      "\n",
      "Option_D:\n",
      "\tMOND is a theory that reduces the discrepancy between the observed missing baryonic mass in galaxy clusters and the measured velocity dispersions from a factor of around 10 to a factor of about 2.\n",
      "\n",
      "Option_E:\n",
      "\tMOND is a theory that eliminates the observed missing baryonic mass in galaxy clusters by imposing a new mathematical formulation of gravity that does not require the existence of dark matter.\n",
      "\n",
      "Answer:\n",
      "\tD\n",
      "\n"
     ]
    }
   ],
   "source": [
    "new_column_names = {\n",
    "    'prompt': 'Question',\n",
    "    'A': 'Option_A',\n",
    "    'B': 'Option_B',\n",
    "    'C': 'Option_C',\n",
    "    'D': 'Option_D',\n",
    "    'E': 'Option_E',\n",
    "    'answer': 'Answer'\n",
    "}\n",
    "\n",
    "train_d = train.copy()\n",
    "train_d.rename(columns=new_column_names, inplace=True)\n",
    "\n",
    "for column, value in train_d.iloc[0].items():\n",
    "    print(f'{column}:\\n\\t{value}\\n')"
   ]
  },
  {
   "cell_type": "code",
   "execution_count": 6,
   "id": "a9bf4e6b",
   "metadata": {
    "execution": {
     "iopub.execute_input": "2023-07-23T12:56:21.561533Z",
     "iopub.status.busy": "2023-07-23T12:56:21.561246Z",
     "iopub.status.idle": "2023-07-23T12:56:22.353047Z",
     "shell.execute_reply": "2023-07-23T12:56:22.352111Z"
    },
    "papermill": {
     "duration": 0.803328,
     "end_time": "2023-07-23T12:56:22.355913",
     "exception": false,
     "start_time": "2023-07-23T12:56:21.552585",
     "status": "completed"
    },
    "tags": []
   },
   "outputs": [
    {
     "data": {
      "image/png": "[encoded data removed]",
      "text/plain": [
       "<Figure size 1000x600 with 2 Axes>"
      ]
     },
     "metadata": {},
     "output_type": "display_data"
    }
   ],
   "source": [
    "train_a = train.copy()\n",
    "train_a['statements'] = train_a['A'] + ' ' + train_a['B'] + ' ' + train_a['C'] + ' ' + train_a['D'] + ' ' + train_a['E']\n",
    "train_a['char_length'] = train_a['statements'].apply(len)\n",
    "train_a['word_length'] = train_a['statements'].apply(lambda x: len(x.split()))\n",
    "\n",
    "plt.figure(figsize=(10, 6))\n",
    "plt.subplot(2, 1, 1)\n",
    "plt.hist(train_a['char_length'], bins=50, edgecolor='k')\n",
    "plt.xlabel('Character Length')\n",
    "plt.ylabel('Frequency')\n",
    "plt.title('Distribution of Statement Length (Characters)')\n",
    "plt.subplot(2, 1, 2)\n",
    "plt.hist(train_a['word_length'], bins=50, edgecolor='k')\n",
    "plt.xlabel('Word Length')\n",
    "plt.ylabel('Frequency')\n",
    "plt.title('Distribution of Statement Length (Words)')\n",
    "\n",
    "plt.tight_layout()\n",
    "plt.show()"
   ]
  },
  {
   "cell_type": "code",
   "execution_count": 7,
   "id": "28e68a3e",
   "metadata": {
    "execution": {
     "iopub.execute_input": "2023-07-23T12:56:22.374384Z",
     "iopub.status.busy": "2023-07-23T12:56:22.372681Z",
     "iopub.status.idle": "2023-07-23T12:56:22.626895Z",
     "shell.execute_reply": "2023-07-23T12:56:22.625976Z"
    },
    "papermill": {
     "duration": 0.265066,
     "end_time": "2023-07-23T12:56:22.629063",
     "exception": false,
     "start_time": "2023-07-23T12:56:22.363997",
     "status": "completed"
    },
    "tags": []
   },
   "outputs": [
    {
     "data": {
      "image/png": "[encoded data removed]",
      "text/plain": [
       "<Figure size 600x400 with 1 Axes>"
      ]
     },
     "metadata": {},
     "output_type": "display_data"
    }
   ],
   "source": [
    "answer_counts = train['answer'].value_counts()\n",
    "plt.figure(figsize=(6,4))\n",
    "plt.bar(answer_counts.index, answer_counts.values)\n",
    "plt.xlabel('Answers')\n",
    "plt.ylabel('Counts')\n",
    "plt.title('Distribution of Correct Answers')\n",
    "plt.show()"
   ]
  },
  {
   "cell_type": "markdown",
   "id": "21641f39",
   "metadata": {
    "papermill": {
     "duration": 0.007949,
     "end_time": "2023-07-23T12:56:22.645278",
     "exception": false,
     "start_time": "2023-07-23T12:56:22.637329",
     "status": "completed"
    },
    "tags": []
   },
   "source": [
    "# <h1 style=\"padding: 20px;color:white;margin:10;font-size:90%;text-align:left;display:fill;border-radius:14px;overflow:hidden;background-image: url(https://images.rawpixel.com/image_800/cHJpdmF0ZS9sci9pbWFnZXMvd2Vic2l0ZS8yMDIyLTA1L3Vwd2s2MTkxNjM4NC13aWtpbWVkaWEtaW1hZ2Uta293ZXdrYTYuanBn.jpg)\"><b><span style='color:white'>Pre-processing</span></b> </h1>"
   ]
  },
  {
   "cell_type": "code",
   "execution_count": 8,
   "id": "61877c40",
   "metadata": {
    "execution": {
     "iopub.execute_input": "2023-07-23T12:56:22.662190Z",
     "iopub.status.busy": "2023-07-23T12:56:22.661843Z",
     "iopub.status.idle": "2023-07-23T12:56:22.684551Z",
     "shell.execute_reply": "2023-07-23T12:56:22.683559Z"
    },
    "papermill": {
     "duration": 0.033639,
     "end_time": "2023-07-23T12:56:22.686647",
     "exception": false,
     "start_time": "2023-07-23T12:56:22.653008",
     "status": "completed"
    },
    "tags": []
   },
   "outputs": [],
   "source": [
    "train_d = Dataset.from_pandas(train)\n",
    "#test_d = Dataset.from_pandas(test)"
   ]
  },
  {
   "cell_type": "code",
   "execution_count": 9,
   "id": "1f5e04ee",
   "metadata": {
    "execution": {
     "iopub.execute_input": "2023-07-23T12:56:22.704267Z",
     "iopub.status.busy": "2023-07-23T12:56:22.702852Z",
     "iopub.status.idle": "2023-07-23T12:56:23.096257Z",
     "shell.execute_reply": "2023-07-23T12:56:23.095266Z"
    },
    "papermill": {
     "duration": 0.40431,
     "end_time": "2023-07-23T12:56:23.098511",
     "exception": false,
     "start_time": "2023-07-23T12:56:22.694201",
     "status": "completed"
    },
    "tags": []
   },
   "outputs": [
    {
     "data": {
      "application/vnd.jupyter.widget-view+json": {
       "model_id": "d8c918609dbb488ab913340ca8fe0805",
       "version_major": 2,
       "version_minor": 0
      },
      "text/plain": [
       "  0%|          | 0/200 [00:00<?, ?ex/s]"
      ]
     },
     "metadata": {},
     "output_type": "display_data"
    },
    {
     "name": "stderr",
     "output_type": "stream",
     "text": [
      "Asking to truncate to max_length but no maximum length is provided and the model has no predefined maximum length. Default to no truncation.\n"
     ]
    }
   ],
   "source": [
    "def preprocess(example):\n",
    "    first_sentence = [example['prompt']] * 5\n",
    "    second_sentence = []\n",
    "    for option in 'ABCDE':\n",
    "        second_sentence.append(example[option])\n",
    " \n",
    "    label_encoder = LabelEncoder()\n",
    "    labels = ['A', 'B', 'C', 'D', 'E']\n",
    "    label_encoder.fit(labels)\n",
    "    encoded_label = label_encoder.transform([example['answer']])[0]\n",
    "\n",
    "    tokenized_example = tokenizer(first_sentence, second_sentence, truncation=True)\n",
    "    tokenized_example['label'] = encoded_label\n",
    "    return tokenized_example\n",
    "\n",
    "tokenized_train_ds = train_d.map(preprocess, batched=False, remove_columns=['prompt', 'A', 'B', 'C', 'D', 'E', 'answer'])"
   ]
  },
  {
   "cell_type": "code",
   "execution_count": 10,
   "id": "89d41714",
   "metadata": {
    "execution": {
     "iopub.execute_input": "2023-07-23T12:56:23.116684Z",
     "iopub.status.busy": "2023-07-23T12:56:23.116397Z",
     "iopub.status.idle": "2023-07-23T12:56:23.126114Z",
     "shell.execute_reply": "2023-07-23T12:56:23.124845Z"
    },
    "papermill": {
     "duration": 0.021487,
     "end_time": "2023-07-23T12:56:23.128261",
     "exception": false,
     "start_time": "2023-07-23T12:56:23.106774",
     "status": "completed"
    },
    "tags": []
   },
   "outputs": [
    {
     "name": "stdout",
     "output_type": "stream",
     "text": [
      "Tokenized Example:\n",
      "{'input_ids': [[1, 2597, 265, 262, 776, 3741, 7480, 4883, 262, 1239, 265, 32098, 85467, 15223, 287, 81978, 285, 277, 262, 3735, 307, 49364, 1588, 608, 23344, 2675, 309, 30038, 267, 13948, 13891, 302, 2, 38071, 691, 269, 266, 2654, 272, 6829, 262, 3735, 2367, 1588, 608, 23344, 2675, 267, 13948, 13891, 293, 600, 27866, 262, 3861, 265, 266, 353, 726, 265, 912, 650, 307, 119902, 1777, 912, 260, 309, 2], [1, 2597, 265, 262, 776, 3741, 7480, 4883, 262, 1239, 265, 32098, 85467, 15223, 287, 81978, 285, 277, 262, 3735, 307, 49364, 1588, 608, 23344, 2675, 309, 30038, 267, 13948, 13891, 302, 2, 38071, 691, 269, 266, 2654, 272, 3441, 262, 30038, 457, 262, 3735, 2367, 1588, 608, 23344, 2675, 267, 13948, 13891, 263, 262, 4836, 11798, 28929, 268, 292, 266, 2641, 265, 441, 466, 264, 266, 2641, 265, 314, 602, 260, 2], [1, 2597, 265, 262, 776, 3741, 7480, 4883, 262, 1239, 265, 32098, 85467, 15223, 287, 81978, 285, 277, 262, 3735, 307, 49364, 1588, 608, 23344, 2675, 309, 30038, 267, 13948, 13891, 302, 2, 38071, 691, 269, 266, 2654, 272, 4157, 262, 2367, 1588, 608, 23344, 2675, 267, 13948, 13891, 272, 284, 2154, 1403, 1777, 912, 293, 11767, 272, 262, 2675, 269, 267, 262, 726, 265, 87188, 263, 266, 68066, 268, 260, 2], [1, 2597, 265, 262, 776, 3741, 7480, 4883, 262, 1239, 265, 32098, 85467, 15223, 287, 81978, 285, 277, 262, 3735, 307, 49364, 1588, 608, 23344, 2675, 309, 30038, 267, 13948, 13891, 302, 2, 38071, 691, 269, 266, 2654, 272, 6829, 262, 30038, 457, 262, 3735, 2367, 1588, 608, 23344, 2675, 267, 13948, 13891, 263, 262, 4836, 11798, 28929, 268, 292, 266, 2641, 265, 441, 466, 264, 266, 2641, 265, 314, 392, 260, 2], [1, 2597, 265, 262, 776, 3741, 7480, 4883, 262, 1239, 265, 32098, 85467, 15223, 287, 81978, 285, 277, 262, 3735, 307, 49364, 1588, 608, 23344, 2675, 309, 30038, 267, 13948, 13891, 302, 2, 38071, 691, 269, 266, 2654, 272, 15770, 262, 3735, 2367, 1588, 608, 23344, 2675, 267, 13948, 13891, 293, 15306, 266, 353, 10378, 15071, 265, 9402, 272, 490, 298, 1449, 262, 3861, 265, 1777, 912, 260, 2]], 'token_type_ids': [[0, 0, 0, 0, 0, 0, 0, 0, 0, 0, 0, 0, 0, 0, 0, 0, 0, 0, 0, 0, 0, 0, 0, 0, 0, 0, 0, 0, 0, 0, 0, 0, 0, 1, 1, 1, 1, 1, 1, 1, 1, 1, 1, 1, 1, 1, 1, 1, 1, 1, 1, 1, 1, 1, 1, 1, 1, 1, 1, 1, 1, 1, 1, 1, 1, 1, 1, 1, 1], [0, 0, 0, 0, 0, 0, 0, 0, 0, 0, 0, 0, 0, 0, 0, 0, 0, 0, 0, 0, 0, 0, 0, 0, 0, 0, 0, 0, 0, 0, 0, 0, 0, 1, 1, 1, 1, 1, 1, 1, 1, 1, 1, 1, 1, 1, 1, 1, 1, 1, 1, 1, 1, 1, 1, 1, 1, 1, 1, 1, 1, 1, 1, 1, 1, 1, 1, 1, 1, 1, 1, 1, 1], [0, 0, 0, 0, 0, 0, 0, 0, 0, 0, 0, 0, 0, 0, 0, 0, 0, 0, 0, 0, 0, 0, 0, 0, 0, 0, 0, 0, 0, 0, 0, 0, 0, 1, 1, 1, 1, 1, 1, 1, 1, 1, 1, 1, 1, 1, 1, 1, 1, 1, 1, 1, 1, 1, 1, 1, 1, 1, 1, 1, 1, 1, 1, 1, 1, 1, 1, 1, 1, 1, 1, 1], [0, 0, 0, 0, 0, 0, 0, 0, 0, 0, 0, 0, 0, 0, 0, 0, 0, 0, 0, 0, 0, 0, 0, 0, 0, 0, 0, 0, 0, 0, 0, 0, 0, 1, 1, 1, 1, 1, 1, 1, 1, 1, 1, 1, 1, 1, 1, 1, 1, 1, 1, 1, 1, 1, 1, 1, 1, 1, 1, 1, 1, 1, 1, 1, 1, 1, 1, 1, 1, 1, 1, 1, 1], [0, 0, 0, 0, 0, 0, 0, 0, 0, 0, 0, 0, 0, 0, 0, 0, 0, 0, 0, 0, 0, 0, 0, 0, 0, 0, 0, 0, 0, 0, 0, 0, 0, 1, 1, 1, 1, 1, 1, 1, 1, 1, 1, 1, 1, 1, 1, 1, 1, 1, 1, 1, 1, 1, 1, 1, 1, 1, 1, 1, 1, 1, 1, 1, 1, 1, 1, 1, 1]], 'attention_mask': [[1, 1, 1, 1, 1, 1, 1, 1, 1, 1, 1, 1, 1, 1, 1, 1, 1, 1, 1, 1, 1, 1, 1, 1, 1, 1, 1, 1, 1, 1, 1, 1, 1, 1, 1, 1, 1, 1, 1, 1, 1, 1, 1, 1, 1, 1, 1, 1, 1, 1, 1, 1, 1, 1, 1, 1, 1, 1, 1, 1, 1, 1, 1, 1, 1, 1, 1, 1, 1], [1, 1, 1, 1, 1, 1, 1, 1, 1, 1, 1, 1, 1, 1, 1, 1, 1, 1, 1, 1, 1, 1, 1, 1, 1, 1, 1, 1, 1, 1, 1, 1, 1, 1, 1, 1, 1, 1, 1, 1, 1, 1, 1, 1, 1, 1, 1, 1, 1, 1, 1, 1, 1, 1, 1, 1, 1, 1, 1, 1, 1, 1, 1, 1, 1, 1, 1, 1, 1, 1, 1, 1, 1], [1, 1, 1, 1, 1, 1, 1, 1, 1, 1, 1, 1, 1, 1, 1, 1, 1, 1, 1, 1, 1, 1, 1, 1, 1, 1, 1, 1, 1, 1, 1, 1, 1, 1, 1, 1, 1, 1, 1, 1, 1, 1, 1, 1, 1, 1, 1, 1, 1, 1, 1, 1, 1, 1, 1, 1, 1, 1, 1, 1, 1, 1, 1, 1, 1, 1, 1, 1, 1, 1, 1, 1], [1, 1, 1, 1, 1, 1, 1, 1, 1, 1, 1, 1, 1, 1, 1, 1, 1, 1, 1, 1, 1, 1, 1, 1, 1, 1, 1, 1, 1, 1, 1, 1, 1, 1, 1, 1, 1, 1, 1, 1, 1, 1, 1, 1, 1, 1, 1, 1, 1, 1, 1, 1, 1, 1, 1, 1, 1, 1, 1, 1, 1, 1, 1, 1, 1, 1, 1, 1, 1, 1, 1, 1, 1], [1, 1, 1, 1, 1, 1, 1, 1, 1, 1, 1, 1, 1, 1, 1, 1, 1, 1, 1, 1, 1, 1, 1, 1, 1, 1, 1, 1, 1, 1, 1, 1, 1, 1, 1, 1, 1, 1, 1, 1, 1, 1, 1, 1, 1, 1, 1, 1, 1, 1, 1, 1, 1, 1, 1, 1, 1, 1, 1, 1, 1, 1, 1, 1, 1, 1, 1, 1, 1]], 'label': 3}\n",
      "\n",
      "Original Prompt:\n",
      "Which of the following statements accurately describes the impact of Modified Newtonian Dynamics (MOND) on the observed \"missing baryonic mass\" discrepancy in galaxy clusters?\n",
      "\n",
      "Original Options:\n",
      "MOND is a theory that reduces the observed missing baryonic mass in galaxy clusters by postulating the existence of a new form of matter called \"fuzzy dark matter.\"\n",
      "MOND is a theory that increases the discrepancy between the observed missing baryonic mass in galaxy clusters and the measured velocity dispersions from a factor of around 10 to a factor of about 20.\n",
      "MOND is a theory that explains the missing baryonic mass in galaxy clusters that was previously considered dark matter by demonstrating that the mass is in the form of neutrinos and axions.\n",
      "MOND is a theory that reduces the discrepancy between the observed missing baryonic mass in galaxy clusters and the measured velocity dispersions from a factor of around 10 to a factor of about 2.\n",
      "MOND is a theory that eliminates the observed missing baryonic mass in galaxy clusters by imposing a new mathematical formulation of gravity that does not require the existence of dark matter.\n",
      "\n",
      "Encoded Label (Answer):\n",
      "3\n"
     ]
    }
   ],
   "source": [
    "idx = 0\n",
    "tokenized_example = tokenized_train_ds[idx]\n",
    "\n",
    "print(\"Tokenized Example:\")\n",
    "print(tokenized_example)\n",
    "\n",
    "print(\"\\nOriginal Prompt:\")\n",
    "print(train['prompt'][idx])\n",
    "print(\"\\nOriginal Options:\")\n",
    "for option in 'ABCDE':\n",
    "    print(train[option][idx])\n",
    "print(\"\\nEncoded Label (Answer):\")\n",
    "print(tokenized_example['label'])"
   ]
  },
  {
   "cell_type": "code",
   "execution_count": 11,
   "id": "b645f70f",
   "metadata": {
    "execution": {
     "iopub.execute_input": "2023-07-23T12:56:23.146198Z",
     "iopub.status.busy": "2023-07-23T12:56:23.145417Z",
     "iopub.status.idle": "2023-07-23T12:56:26.877340Z",
     "shell.execute_reply": "2023-07-23T12:56:26.876359Z"
    },
    "papermill": {
     "duration": 3.743282,
     "end_time": "2023-07-23T12:56:26.879943",
     "exception": false,
     "start_time": "2023-07-23T12:56:23.136661",
     "status": "completed"
    },
    "tags": []
   },
   "outputs": [],
   "source": [
    "from dataclasses import dataclass\n",
    "from transformers.tokenization_utils_base import PreTrainedTokenizerBase, PaddingStrategy\n",
    "from typing import Optional, Union\n",
    "import torch\n",
    "\n",
    "@dataclass\n",
    "class DataCollatorForMultipleChoice:\n",
    "    tokenizer: PreTrainedTokenizerBase\n",
    "    padding: Union[bool, str, PaddingStrategy] = True\n",
    "    max_length: Optional[int] = None\n",
    "    pad_to_multiple_of: Optional[int] = None\n",
    "    \n",
    "    def __call__(self, features):\n",
    "        label_name = \"label\" if 'label' in features[0].keys() else 'labels'\n",
    "        labels = [feature.pop(label_name) for feature in features]\n",
    "        batch_size = len(features)\n",
    "        num_choices = len(features[0]['input_ids'])\n",
    "        flattened_features = [\n",
    "            [{k: v[i] for k, v in feature.items()} for i in range(num_choices)] for feature in features\n",
    "        ]\n",
    "        flattened_features = sum(flattened_features, [])\n",
    "        \n",
    "        batch = self.tokenizer.pad(\n",
    "            flattened_features,\n",
    "            padding=self.padding,\n",
    "            max_length=self.max_length,\n",
    "            pad_to_multiple_of=self.pad_to_multiple_of,\n",
    "            return_tensors='pt',\n",
    "        )\n",
    "        batch = {k: v.view(batch_size, num_choices, -1) for k, v in batch.items()}\n",
    "        batch['labels'] = torch.tensor(labels, dtype=torch.int64)\n",
    "        return batch"
   ]
  },
  {
   "cell_type": "markdown",
   "id": "a878fe9a",
   "metadata": {
    "papermill": {
     "duration": 0.009132,
     "end_time": "2023-07-23T12:56:26.899073",
     "exception": false,
     "start_time": "2023-07-23T12:56:26.889941",
     "status": "completed"
    },
    "tags": []
   },
   "source": [
    "# <h1 style=\"padding: 20px;color:white;margin:10;font-size:90%;text-align:left;display:fill;border-radius:14px;overflow:hidden;background-image: url(https://images.rawpixel.com/image_800/cHJpdmF0ZS9sci9pbWFnZXMvd2Vic2l0ZS8yMDIyLTA1L3Vwd2s2MTkxNjM4NC13aWtpbWVkaWEtaW1hZ2Uta293ZXdrYTYuanBn.jpg)\"><b><span style='color:white'>Model</span></b> </h1>"
   ]
  },
  {
   "cell_type": "code",
   "execution_count": 12,
   "id": "ef983bf1",
   "metadata": {
    "execution": {
     "iopub.execute_input": "2023-07-23T12:56:26.917623Z",
     "iopub.status.busy": "2023-07-23T12:56:26.915836Z",
     "iopub.status.idle": "2023-07-23T12:56:40.297456Z",
     "shell.execute_reply": "2023-07-23T12:56:40.296470Z"
    },
    "papermill": {
     "duration": 13.392731,
     "end_time": "2023-07-23T12:56:40.299695",
     "exception": false,
     "start_time": "2023-07-23T12:56:26.906964",
     "status": "completed"
    },
    "tags": []
   },
   "outputs": [
    {
     "name": "stderr",
     "output_type": "stream",
     "text": [
      "Some weights of the model checkpoint at /kaggle/input/debertav3base were not used when initializing DebertaV2ForMultipleChoice: ['lm_predictions.lm_head.bias', 'mask_predictions.classifier.weight', 'lm_predictions.lm_head.LayerNorm.weight', 'mask_predictions.classifier.bias', 'lm_predictions.lm_head.LayerNorm.bias', 'mask_predictions.dense.bias', 'mask_predictions.dense.weight', 'lm_predictions.lm_head.dense.weight', 'mask_predictions.LayerNorm.weight', 'mask_predictions.LayerNorm.bias', 'lm_predictions.lm_head.dense.bias']\n",
      "- This IS expected if you are initializing DebertaV2ForMultipleChoice from the checkpoint of a model trained on another task or with another architecture (e.g. initializing a BertForSequenceClassification model from a BertForPreTraining model).\n",
      "- This IS NOT expected if you are initializing DebertaV2ForMultipleChoice from the checkpoint of a model that you expect to be exactly identical (initializing a BertForSequenceClassification model from a BertForSequenceClassification model).\n",
      "Some weights of DebertaV2ForMultipleChoice were not initialized from the model checkpoint at /kaggle/input/debertav3base and are newly initialized: ['pooler.dense.bias', 'classifier.weight', 'pooler.dense.weight', 'classifier.bias']\n",
      "You should probably TRAIN this model on a down-stream task to be able to use it for predictions and inference.\n"
     ]
    }
   ],
   "source": [
    "from transformers import AutoModelForMultipleChoice, TrainingArguments, Trainer\n",
    "model = AutoModelForMultipleChoice.from_pretrained(model_name)"
   ]
  },
  {
   "cell_type": "code",
   "execution_count": 13,
   "id": "661bbe67",
   "metadata": {
    "execution": {
     "iopub.execute_input": "2023-07-23T12:56:40.320038Z",
     "iopub.status.busy": "2023-07-23T12:56:40.319759Z",
     "iopub.status.idle": "2023-07-23T12:59:46.276029Z",
     "shell.execute_reply": "2023-07-23T12:59:46.275151Z"
    },
    "papermill": {
     "duration": 190.380278,
     "end_time": "2023-07-23T12:59:50.690579",
     "exception": false,
     "start_time": "2023-07-23T12:56:40.310301",
     "status": "completed"
    },
    "tags": []
   },
   "outputs": [
    {
     "name": "stderr",
     "output_type": "stream",
     "text": [
      "You're using a DebertaV2TokenizerFast tokenizer. Please note that with a fast tokenizer, using the `__call__` method is faster than using a method to encode the text followed by a call to the `pad` method to get a padded encoding.\n"
     ]
    },
    {
     "data": {
      "text/html": [
       "\n",
       "    <div>\n",
       "      \n",
       "      <progress value='175' max='175' style='width:300px; height:20px; vertical-align: middle;'></progress>\n",
       "      [175/175 02:53, Epoch 7/7]\n",
       "    </div>\n",
       "    <table border=\"1\" class=\"dataframe\">\n",
       "  <thead>\n",
       " <tr style=\"text-align: left;\">\n",
       "      <th>Epoch</th>\n",
       "      <th>Training Loss</th>\n",
       "      <th>Validation Loss</th>\n",
       "    </tr>\n",
       "  </thead>\n",
       "  <tbody>\n",
       "    <tr>\n",
       "      <td>1</td>\n",
       "      <td>No log</td>\n",
       "      <td>1.582883</td>\n",
       "    </tr>\n",
       "    <tr>\n",
       "      <td>2</td>\n",
       "      <td>No log</td>\n",
       "      <td>1.302669</td>\n",
       "    </tr>\n",
       "    <tr>\n",
       "      <td>3</td>\n",
       "      <td>No log</td>\n",
       "      <td>1.049053</td>\n",
       "    </tr>\n",
       "    <tr>\n",
       "      <td>4</td>\n",
       "      <td>No log</td>\n",
       "      <td>0.796345</td>\n",
       "    </tr>\n",
       "    <tr>\n",
       "      <td>5</td>\n",
       "      <td>No log</td>\n",
       "      <td>0.694087</td>\n",
       "    </tr>\n",
       "    <tr>\n",
       "      <td>6</td>\n",
       "      <td>No log</td>\n",
       "      <td>0.576505</td>\n",
       "    </tr>\n",
       "    <tr>\n",
       "      <td>7</td>\n",
       "      <td>No log</td>\n",
       "      <td>0.515552</td>\n",
       "    </tr>\n",
       "  </tbody>\n",
       "</table><p>"
      ],
      "text/plain": [
       "<IPython.core.display.HTML object>"
      ]
     },
     "metadata": {},
     "output_type": "display_data"
    },
    {
     "data": {
      "text/plain": [
       "TrainOutput(global_step=175, training_loss=1.1204052734375, metrics={'train_runtime': 179.9797, 'train_samples_per_second': 7.779, 'train_steps_per_second': 0.972, 'total_flos': 330310110214320.0, 'train_loss': 1.1204052734375, 'epoch': 7.0})"
      ]
     },
     "execution_count": 13,
     "metadata": {},
     "output_type": "execute_result"
    }
   ],
   "source": [
    "model_name = 'finetuned_bert'\n",
    "training_args = TrainingArguments(\n",
    "    output_dir=model_name,\n",
    "    evaluation_strategy=\"epoch\",\n",
    "    save_strategy=\"epoch\",\n",
    "    load_best_model_at_end=True,\n",
    "    learning_rate=3e-5,\n",
    "    per_device_train_batch_size=4,\n",
    "    per_device_eval_batch_size=8,\n",
    "    num_train_epochs=7,\n",
    "    weight_decay=0.01,\n",
    "    report_to='none'\n",
    ")\n",
    "\n",
    "trainer = Trainer(\n",
    "    model=model,\n",
    "    args=training_args,\n",
    "    train_dataset=tokenized_train_ds,\n",
    "    eval_dataset=tokenized_train_ds,\n",
    "    tokenizer=tokenizer,\n",
    "    data_collator=DataCollatorForMultipleChoice(tokenizer=tokenizer),\n",
    ")\n",
    "\n",
    "trainer.train()"
   ]
  },
  {
   "cell_type": "code",
   "execution_count": 14,
   "id": "ef55bba8",
   "metadata": {
    "execution": {
     "iopub.execute_input": "2023-07-23T12:59:50.732005Z",
     "iopub.status.busy": "2023-07-23T12:59:50.731356Z",
     "iopub.status.idle": "2023-07-23T12:59:55.425256Z",
     "shell.execute_reply": "2023-07-23T12:59:55.424194Z"
    },
    "papermill": {
     "duration": 4.706524,
     "end_time": "2023-07-23T12:59:55.427220",
     "exception": false,
     "start_time": "2023-07-23T12:59:50.720696",
     "status": "completed"
    },
    "tags": []
   },
   "outputs": [
    {
     "data": {
      "text/html": [],
      "text/plain": [
       "<IPython.core.display.HTML object>"
      ]
     },
     "metadata": {},
     "output_type": "display_data"
    }
   ],
   "source": [
    "predictions = trainer.predict(tokenized_train_ds)"
   ]
  },
  {
   "cell_type": "markdown",
   "id": "82904b13",
   "metadata": {
    "papermill": {
     "duration": 0.008783,
     "end_time": "2023-07-23T12:59:55.445333",
     "exception": false,
     "start_time": "2023-07-23T12:59:55.436550",
     "status": "completed"
    },
    "tags": []
   },
   "source": [
    "# <h1 style=\"padding: 20px;color:white;margin:10;font-size:90%;text-align:left;display:fill;border-radius:14px;overflow:hidden;background-image: url(https://images.rawpixel.com/image_800/cHJpdmF0ZS9sci9pbWFnZXMvd2Vic2l0ZS8yMDIyLTA1L3Vwd2s2MTkxNjM4NC13aWtpbWVkaWEtaW1hZ2Uta293ZXdrYTYuanBn.jpg)\"><b><span style='color:white'>Post-Processing</span></b> </h1>"
   ]
  },
  {
   "cell_type": "code",
   "execution_count": 15,
   "id": "f26615b8",
   "metadata": {
    "execution": {
     "iopub.execute_input": "2023-07-23T12:59:55.464223Z",
     "iopub.status.busy": "2023-07-23T12:59:55.463917Z",
     "iopub.status.idle": "2023-07-23T12:59:55.470738Z",
     "shell.execute_reply": "2023-07-23T12:59:55.469700Z"
    },
    "papermill": {
     "duration": 0.018926,
     "end_time": "2023-07-23T12:59:55.473020",
     "exception": false,
     "start_time": "2023-07-23T12:59:55.454094",
     "status": "completed"
    },
    "tags": []
   },
   "outputs": [],
   "source": [
    "options = 'ABCDE'\n",
    "indices = list(range(5))\n",
    "index_to_option = {index: option for option, index in zip(options, indices)}\n",
    "\n",
    "def predictions_to_map_output(predictions):    \n",
    "    top_answer_indices = np.argpartition(-predictions, kth=3, axis=-1)[:, :3]\n",
    "    top_answers = np.vectorize(index_to_option.get)(top_answer_indices)\n",
    "    submission_results = np.apply_along_axis(lambda row: ' '.join(row), 1, top_answers)\n",
    "\n",
    "    return submission_results"
   ]
  },
  {
   "cell_type": "code",
   "execution_count": 16,
   "id": "2ea476f6",
   "metadata": {
    "execution": {
     "iopub.execute_input": "2023-07-23T12:59:55.491224Z",
     "iopub.status.busy": "2023-07-23T12:59:55.490943Z",
     "iopub.status.idle": "2023-07-23T12:59:55.796017Z",
     "shell.execute_reply": "2023-07-23T12:59:55.794777Z"
    },
    "papermill": {
     "duration": 0.318288,
     "end_time": "2023-07-23T12:59:55.799899",
     "exception": false,
     "start_time": "2023-07-23T12:59:55.481611",
     "status": "completed"
    },
    "tags": []
   },
   "outputs": [
    {
     "data": {
      "application/vnd.jupyter.widget-view+json": {
       "model_id": "cd38b35d79f64d589a7572008994b313",
       "version_major": 2,
       "version_minor": 0
      },
      "text/plain": [
       "  0%|          | 0/200 [00:00<?, ?ex/s]"
      ]
     },
     "metadata": {},
     "output_type": "display_data"
    }
   ],
   "source": [
    "test['answer'] = 'A'\n",
    "test_ds = Dataset.from_pandas(test)\n",
    "tokenized_test_ds = test_ds.map(preprocess, batched=False, remove_columns=['prompt', 'A', 'B', 'C', 'D', 'E', 'answer'])"
   ]
  },
  {
   "cell_type": "code",
   "execution_count": 17,
   "id": "d1101c4d",
   "metadata": {
    "execution": {
     "iopub.execute_input": "2023-07-23T12:59:55.860499Z",
     "iopub.status.busy": "2023-07-23T12:59:55.859730Z",
     "iopub.status.idle": "2023-07-23T13:00:00.545034Z",
     "shell.execute_reply": "2023-07-23T13:00:00.543857Z"
    },
    "papermill": {
     "duration": 4.724304,
     "end_time": "2023-07-23T13:00:00.548816",
     "exception": false,
     "start_time": "2023-07-23T12:59:55.824512",
     "status": "completed"
    },
    "tags": []
   },
   "outputs": [
    {
     "data": {
      "text/html": [],
      "text/plain": [
       "<IPython.core.display.HTML object>"
      ]
     },
     "metadata": {},
     "output_type": "display_data"
    }
   ],
   "source": [
    "test_predictions = trainer.predict(tokenized_test_ds)\n",
    "submission_df = test[['id']]\n",
    "submission_df['prediction'] = predictions_to_map_output(test_predictions.predictions)\n",
    "submission_df.to_csv('submission.csv', index=False)"
   ]
  }
 ],
 "metadata": {
  "kernelspec": {
   "display_name": "Python 3",
   "language": "python",
   "name": "python3"
  },
  "language_info": {
   "codemirror_mode": {
    "name": "ipython",
    "version": 3
   },
   "file_extension": ".py",
   "mimetype": "text/x-python",
   "name": "python",
   "nbconvert_exporter": "python",
   "pygments_lexer": "ipython3",
   "version": "3.10.12"
  },
  "papermill": {
   "default_parameters": {},
   "duration": 239.074655,
   "end_time": "2023-07-23T13:00:04.282131",
   "environment_variables": {},
   "exception": null,
   "input_path": "__notebook__.ipynb",
   "output_path": "__notebook__.ipynb",
   "parameters": {},
   "start_time": "2023-07-23T12:56:05.207476",
   "version": "2.4.0"
  },
  "widgets": {
   "application/vnd.jupyter.widget-state+json": {
    "state": {
     "23e4bb48a0924cd1ba41d339bbdcfd7c": {
      "model_module": "@jupyter-widgets/controls",
      "model_module_version": "1.5.0",
      "model_name": "DescriptionStyleModel",
      "state": {
       "_model_module": "@jupyter-widgets/controls",
       "_model_module_version": "1.5.0",
       "_model_name": "DescriptionStyleModel",
       "_view_count": null,
       "_view_module": "@jupyter-widgets/base",
       "_view_module_version": "1.2.0",
       "_view_name": "StyleView",
       "description_width": ""
      }
     },
     "300a37f7bc4143ff8e71b1c91cbc0b91": {
      "model_module": "@jupyter-widgets/controls",
      "model_module_version": "1.5.0",
      "model_name": "HTMLModel",
      "state": {
       "_dom_classes": [],
       "_model_module": "@jupyter-widgets/controls",
       "_model_module_version": "1.5.0",
       "_model_name": "HTMLModel",
       "_view_count": null,
       "_view_module": "@jupyter-widgets/controls",
       "_view_module_version": "1.5.0",
       "_view_name": "HTMLView",
       "description": "",
       "description_tooltip": null,
       "layout": "IPY_MODEL_a70cb6de73414674ad829f172aed219d",
       "placeholder": "​",
       "style": "IPY_MODEL_64d6fc20ea034e259701618b0f068494",
       "value": " 200/200 [00:00&lt;00:00, 820.78ex/s]"
      }
     },
     "3629cac69f7d43df9df9b51711c6d1bd": {
      "model_module": "@jupyter-widgets/controls",
      "model_module_version": "1.5.0",
      "model_name": "ProgressStyleModel",
      "state": {
       "_model_module": "@jupyter-widgets/controls",
       "_model_module_version": "1.5.0",
       "_model_name": "ProgressStyleModel",
       "_view_count": null,
       "_view_module": "@jupyter-widgets/base",
       "_view_module_version": "1.2.0",
       "_view_name": "StyleView",
       "bar_color": null,
       "description_width": ""
      }
     },
     "469b63222bc34ccb990c0aec2c2cbe28": {
      "model_module": "@jupyter-widgets/base",
      "model_module_version": "1.2.0",
      "model_name": "LayoutModel",
      "state": {
       "_model_module": "@jupyter-widgets/base",
       "_model_module_version": "1.2.0",
       "_model_name": "LayoutModel",
       "_view_count": null,
       "_view_module": "@jupyter-widgets/base",
       "_view_module_version": "1.2.0",
       "_view_name": "LayoutView",
       "align_content": null,
       "align_items": null,
       "align_self": null,
       "border": null,
       "bottom": null,
       "display": null,
       "flex": null,
       "flex_flow": null,
       "grid_area": null,
       "grid_auto_columns": null,
       "grid_auto_flow": null,
       "grid_auto_rows": null,
       "grid_column": null,
       "grid_gap": null,
       "grid_row": null,
       "grid_template_areas": null,
       "grid_template_columns": null,
       "grid_template_rows": null,
       "height": null,
       "justify_content": null,
       "justify_items": null,
       "left": null,
       "margin": null,
       "max_height": null,
       "max_width": null,
       "min_height": null,
       "min_width": null,
       "object_fit": null,
       "object_position": null,
       "order": null,
       "overflow": null,
       "overflow_x": null,
       "overflow_y": null,
       "padding": null,
       "right": null,
       "top": null,
       "visibility": null,
       "width": null
      }
     },
     "477b0da5909440669d9b0a9f9bebfa9f": {
      "model_module": "@jupyter-widgets/base",
      "model_module_version": "1.2.0",
      "model_name": "LayoutModel",
      "state": {
       "_model_module": "@jupyter-widgets/base",
       "_model_module_version": "1.2.0",
       "_model_name": "LayoutModel",
       "_view_count": null,
       "_view_module": "@jupyter-widgets/base",
       "_view_module_version": "1.2.0",
       "_view_name": "LayoutView",
       "align_content": null,
       "align_items": null,
       "align_self": null,
       "border": null,
       "bottom": null,
       "display": null,
       "flex": null,
       "flex_flow": null,
       "grid_area": null,
       "grid_auto_columns": null,
       "grid_auto_flow": null,
       "grid_auto_rows": null,
       "grid_column": null,
       "grid_gap": null,
       "grid_row": null,
       "grid_template_areas": null,
       "grid_template_columns": null,
       "grid_template_rows": null,
       "height": null,
       "justify_content": null,
       "justify_items": null,
       "left": null,
       "margin": null,
       "max_height": null,
       "max_width": null,
       "min_height": null,
       "min_width": null,
       "object_fit": null,
       "object_position": null,
       "order": null,
       "overflow": null,
       "overflow_x": null,
       "overflow_y": null,
       "padding": null,
       "right": null,
       "top": null,
       "visibility": null,
       "width": null
      }
     },
     "4b561b238035490fbc19d9cea144aedc": {
      "model_module": "@jupyter-widgets/base",
      "model_module_version": "1.2.0",
      "model_name": "LayoutModel",
      "state": {
       "_model_module": "@jupyter-widgets/base",
       "_model_module_version": "1.2.0",
       "_model_name": "LayoutModel",
       "_view_count": null,
       "_view_module": "@jupyter-widgets/base",
       "_view_module_version": "1.2.0",
       "_view_name": "LayoutView",
       "align_content": null,
       "align_items": null,
       "align_self": null,
       "border": null,
       "bottom": null,
       "display": null,
       "flex": null,
       "flex_flow": null,
       "grid_area": null,
       "grid_auto_columns": null,
       "grid_auto_flow": null,
       "grid_auto_rows": null,
       "grid_column": null,
       "grid_gap": null,
       "grid_row": null,
       "grid_template_areas": null,
       "grid_template_columns": null,
       "grid_template_rows": null,
       "height": null,
       "justify_content": null,
       "justify_items": null,
       "left": null,
       "margin": null,
       "max_height": null,
       "max_width": null,
       "min_height": null,
       "min_width": null,
       "object_fit": null,
       "object_position": null,
       "order": null,
       "overflow": null,
       "overflow_x": null,
       "overflow_y": null,
       "padding": null,
       "right": null,
       "top": null,
       "visibility": null,
       "width": null
      }
     },
     "64d6fc20ea034e259701618b0f068494": {
      "model_module": "@jupyter-widgets/controls",
      "model_module_version": "1.5.0",
      "model_name": "DescriptionStyleModel",
      "state": {
       "_model_module": "@jupyter-widgets/controls",
       "_model_module_version": "1.5.0",
       "_model_name": "DescriptionStyleModel",
       "_view_count": null,
       "_view_module": "@jupyter-widgets/base",
       "_view_module_version": "1.2.0",
       "_view_name": "StyleView",
       "description_width": ""
      }
     },
     "6f531676e6934d4f9b0b1fbf293b006f": {
      "model_module": "@jupyter-widgets/controls",
      "model_module_version": "1.5.0",
      "model_name": "ProgressStyleModel",
      "state": {
       "_model_module": "@jupyter-widgets/controls",
       "_model_module_version": "1.5.0",
       "_model_name": "ProgressStyleModel",
       "_view_count": null,
       "_view_module": "@jupyter-widgets/base",
       "_view_module_version": "1.2.0",
       "_view_name": "StyleView",
       "bar_color": null,
       "description_width": ""
      }
     },
     "75033466b00848b289fa12652077cc26": {
      "model_module": "@jupyter-widgets/base",
      "model_module_version": "1.2.0",
      "model_name": "LayoutModel",
      "state": {
       "_model_module": "@jupyter-widgets/base",
       "_model_module_version": "1.2.0",
       "_model_name": "LayoutModel",
       "_view_count": null,
       "_view_module": "@jupyter-widgets/base",
       "_view_module_version": "1.2.0",
       "_view_name": "LayoutView",
       "align_content": null,
       "align_items": null,
       "align_self": null,
       "border": null,
       "bottom": null,
       "display": null,
       "flex": null,
       "flex_flow": null,
       "grid_area": null,
       "grid_auto_columns": null,
       "grid_auto_flow": null,
       "grid_auto_rows": null,
       "grid_column": null,
       "grid_gap": null,
       "grid_row": null,
       "grid_template_areas": null,
       "grid_template_columns": null,
       "grid_template_rows": null,
       "height": null,
       "justify_content": null,
       "justify_items": null,
       "left": null,
       "margin": null,
       "max_height": null,
       "max_width": null,
       "min_height": null,
       "min_width": null,
       "object_fit": null,
       "object_position": null,
       "order": null,
       "overflow": null,
       "overflow_x": null,
       "overflow_y": null,
       "padding": null,
       "right": null,
       "top": null,
       "visibility": null,
       "width": null
      }
     },
     "805612d0a50f4cd7a6a31d8793f0b005": {
      "model_module": "@jupyter-widgets/controls",
      "model_module_version": "1.5.0",
      "model_name": "HTMLModel",
      "state": {
       "_dom_classes": [],
       "_model_module": "@jupyter-widgets/controls",
       "_model_module_version": "1.5.0",
       "_model_name": "HTMLModel",
       "_view_count": null,
       "_view_module": "@jupyter-widgets/controls",
       "_view_module_version": "1.5.0",
       "_view_name": "HTMLView",
       "description": "",
       "description_tooltip": null,
       "layout": "IPY_MODEL_85cbd336ebd74534a71181241bfa51ac",
       "placeholder": "​",
       "style": "IPY_MODEL_e1b4364e3df84481ba6329ac3e26eead",
       "value": "100%"
      }
     },
     "85cbd336ebd74534a71181241bfa51ac": {
      "model_module": "@jupyter-widgets/base",
      "model_module_version": "1.2.0",
      "model_name": "LayoutModel",
      "state": {
       "_model_module": "@jupyter-widgets/base",
       "_model_module_version": "1.2.0",
       "_model_name": "LayoutModel",
       "_view_count": null,
       "_view_module": "@jupyter-widgets/base",
       "_view_module_version": "1.2.0",
       "_view_name": "LayoutView",
       "align_content": null,
       "align_items": null,
       "align_self": null,
       "border": null,
       "bottom": null,
       "display": null,
       "flex": null,
       "flex_flow": null,
       "grid_area": null,
       "grid_auto_columns": null,
       "grid_auto_flow": null,
       "grid_auto_rows": null,
       "grid_column": null,
       "grid_gap": null,
       "grid_row": null,
       "grid_template_areas": null,
       "grid_template_columns": null,
       "grid_template_rows": null,
       "height": null,
       "justify_content": null,
       "justify_items": null,
       "left": null,
       "margin": null,
       "max_height": null,
       "max_width": null,
       "min_height": null,
       "min_width": null,
       "object_fit": null,
       "object_position": null,
       "order": null,
       "overflow": null,
       "overflow_x": null,
       "overflow_y": null,
       "padding": null,
       "right": null,
       "top": null,
       "visibility": null,
       "width": null
      }
     },
     "887a12b5aff148f0b1dc7532d9208e60": {
      "model_module": "@jupyter-widgets/base",
      "model_module_version": "1.2.0",
      "model_name": "LayoutModel",
      "state": {
       "_model_module": "@jupyter-widgets/base",
       "_model_module_version": "1.2.0",
       "_model_name": "LayoutModel",
       "_view_count": null,
       "_view_module": "@jupyter-widgets/base",
       "_view_module_version": "1.2.0",
       "_view_name": "LayoutView",
       "align_content": null,
       "align_items": null,
       "align_self": null,
       "border": null,
       "bottom": null,
       "display": null,
       "flex": null,
       "flex_flow": null,
       "grid_area": null,
       "grid_auto_columns": null,
       "grid_auto_flow": null,
       "grid_auto_rows": null,
       "grid_column": null,
       "grid_gap": null,
       "grid_row": null,
       "grid_template_areas": null,
       "grid_template_columns": null,
       "grid_template_rows": null,
       "height": null,
       "justify_content": null,
       "justify_items": null,
       "left": null,
       "margin": null,
       "max_height": null,
       "max_width": null,
       "min_height": null,
       "min_width": null,
       "object_fit": null,
       "object_position": null,
       "order": null,
       "overflow": null,
       "overflow_x": null,
       "overflow_y": null,
       "padding": null,
       "right": null,
       "top": null,
       "visibility": null,
       "width": null
      }
     },
     "a1c262a57f6c4fdba7715ce75a79c1af": {
      "model_module": "@jupyter-widgets/controls",
      "model_module_version": "1.5.0",
      "model_name": "DescriptionStyleModel",
      "state": {
       "_model_module": "@jupyter-widgets/controls",
       "_model_module_version": "1.5.0",
       "_model_name": "DescriptionStyleModel",
       "_view_count": null,
       "_view_module": "@jupyter-widgets/base",
       "_view_module_version": "1.2.0",
       "_view_name": "StyleView",
       "description_width": ""
      }
     },
     "a70cb6de73414674ad829f172aed219d": {
      "model_module": "@jupyter-widgets/base",
      "model_module_version": "1.2.0",
      "model_name": "LayoutModel",
      "state": {
       "_model_module": "@jupyter-widgets/base",
       "_model_module_version": "1.2.0",
       "_model_name": "LayoutModel",
       "_view_count": null,
       "_view_module": "@jupyter-widgets/base",
       "_view_module_version": "1.2.0",
       "_view_name": "LayoutView",
       "align_content": null,
       "align_items": null,
       "align_self": null,
       "border": null,
       "bottom": null,
       "display": null,
       "flex": null,
       "flex_flow": null,
       "grid_area": null,
       "grid_auto_columns": null,
       "grid_auto_flow": null,
       "grid_auto_rows": null,
       "grid_column": null,
       "grid_gap": null,
       "grid_row": null,
       "grid_template_areas": null,
       "grid_template_columns": null,
       "grid_template_rows": null,
       "height": null,
       "justify_content": null,
       "justify_items": null,
       "left": null,
       "margin": null,
       "max_height": null,
       "max_width": null,
       "min_height": null,
       "min_width": null,
       "object_fit": null,
       "object_position": null,
       "order": null,
       "overflow": null,
       "overflow_x": null,
       "overflow_y": null,
       "padding": null,
       "right": null,
       "top": null,
       "visibility": null,
       "width": null
      }
     },
     "c0202e6b4bb84051a51d256f8c653c7c": {
      "model_module": "@jupyter-widgets/controls",
      "model_module_version": "1.5.0",
      "model_name": "HTMLModel",
      "state": {
       "_dom_classes": [],
       "_model_module": "@jupyter-widgets/controls",
       "_model_module_version": "1.5.0",
       "_model_name": "HTMLModel",
       "_view_count": null,
       "_view_module": "@jupyter-widgets/controls",
       "_view_module_version": "1.5.0",
       "_view_name": "HTMLView",
       "description": "",
       "description_tooltip": null,
       "layout": "IPY_MODEL_469b63222bc34ccb990c0aec2c2cbe28",
       "placeholder": "​",
       "style": "IPY_MODEL_23e4bb48a0924cd1ba41d339bbdcfd7c",
       "value": " 200/200 [00:00&lt;00:00, 668.66ex/s]"
      }
     },
     "c9d85d7471a44f3299d04dd510b12e32": {
      "model_module": "@jupyter-widgets/base",
      "model_module_version": "1.2.0",
      "model_name": "LayoutModel",
      "state": {
       "_model_module": "@jupyter-widgets/base",
       "_model_module_version": "1.2.0",
       "_model_name": "LayoutModel",
       "_view_count": null,
       "_view_module": "@jupyter-widgets/base",
       "_view_module_version": "1.2.0",
       "_view_name": "LayoutView",
       "align_content": null,
       "align_items": null,
       "align_self": null,
       "border": null,
       "bottom": null,
       "display": null,
       "flex": null,
       "flex_flow": null,
       "grid_area": null,
       "grid_auto_columns": null,
       "grid_auto_flow": null,
       "grid_auto_rows": null,
       "grid_column": null,
       "grid_gap": null,
       "grid_row": null,
       "grid_template_areas": null,
       "grid_template_columns": null,
       "grid_template_rows": null,
       "height": null,
       "justify_content": null,
       "justify_items": null,
       "left": null,
       "margin": null,
       "max_height": null,
       "max_width": null,
       "min_height": null,
       "min_width": null,
       "object_fit": null,
       "object_position": null,
       "order": null,
       "overflow": null,
       "overflow_x": null,
       "overflow_y": null,
       "padding": null,
       "right": null,
       "top": null,
       "visibility": null,
       "width": null
      }
     },
     "cae39257f6994ef582499ba673ddec30": {
      "model_module": "@jupyter-widgets/controls",
      "model_module_version": "1.5.0",
      "model_name": "FloatProgressModel",
      "state": {
       "_dom_classes": [],
       "_model_module": "@jupyter-widgets/controls",
       "_model_module_version": "1.5.0",
       "_model_name": "FloatProgressModel",
       "_view_count": null,
       "_view_module": "@jupyter-widgets/controls",
       "_view_module_version": "1.5.0",
       "_view_name": "ProgressView",
       "bar_style": "success",
       "description": "",
       "description_tooltip": null,
       "layout": "IPY_MODEL_887a12b5aff148f0b1dc7532d9208e60",
       "max": 200.0,
       "min": 0.0,
       "orientation": "horizontal",
       "style": "IPY_MODEL_6f531676e6934d4f9b0b1fbf293b006f",
       "value": 200.0
      }
     },
     "cd38b35d79f64d589a7572008994b313": {
      "model_module": "@jupyter-widgets/controls",
      "model_module_version": "1.5.0",
      "model_name": "HBoxModel",
      "state": {
       "_dom_classes": [],
       "_model_module": "@jupyter-widgets/controls",
       "_model_module_version": "1.5.0",
       "_model_name": "HBoxModel",
       "_view_count": null,
       "_view_module": "@jupyter-widgets/controls",
       "_view_module_version": "1.5.0",
       "_view_name": "HBoxView",
       "box_style": "",
       "children": [
        "IPY_MODEL_805612d0a50f4cd7a6a31d8793f0b005",
        "IPY_MODEL_ed6e9b899b7d4eeabb2d66b089b4b38d",
        "IPY_MODEL_300a37f7bc4143ff8e71b1c91cbc0b91"
       ],
       "layout": "IPY_MODEL_4b561b238035490fbc19d9cea144aedc"
      }
     },
     "d8c918609dbb488ab913340ca8fe0805": {
      "model_module": "@jupyter-widgets/controls",
      "model_module_version": "1.5.0",
      "model_name": "HBoxModel",
      "state": {
       "_dom_classes": [],
       "_model_module": "@jupyter-widgets/controls",
       "_model_module_version": "1.5.0",
       "_model_name": "HBoxModel",
       "_view_count": null,
       "_view_module": "@jupyter-widgets/controls",
       "_view_module_version": "1.5.0",
       "_view_name": "HBoxView",
       "box_style": "",
       "children": [
        "IPY_MODEL_fabd611a6e9d41ac83e883160ac5a729",
        "IPY_MODEL_cae39257f6994ef582499ba673ddec30",
        "IPY_MODEL_c0202e6b4bb84051a51d256f8c653c7c"
       ],
       "layout": "IPY_MODEL_c9d85d7471a44f3299d04dd510b12e32"
      }
     },
     "e1b4364e3df84481ba6329ac3e26eead": {
      "model_module": "@jupyter-widgets/controls",
      "model_module_version": "1.5.0",
      "model_name": "DescriptionStyleModel",
      "state": {
       "_model_module": "@jupyter-widgets/controls",
       "_model_module_version": "1.5.0",
       "_model_name": "DescriptionStyleModel",
       "_view_count": null,
       "_view_module": "@jupyter-widgets/base",
       "_view_module_version": "1.2.0",
       "_view_name": "StyleView",
       "description_width": ""
      }
     },
     "ed6e9b899b7d4eeabb2d66b089b4b38d": {
      "model_module": "@jupyter-widgets/controls",
      "model_module_version": "1.5.0",
      "model_name": "FloatProgressModel",
      "state": {
       "_dom_classes": [],
       "_model_module": "@jupyter-widgets/controls",
       "_model_module_version": "1.5.0",
       "_model_name": "FloatProgressModel",
       "_view_count": null,
       "_view_module": "@jupyter-widgets/controls",
       "_view_module_version": "1.5.0",
       "_view_name": "ProgressView",
       "bar_style": "success",
       "description": "",
       "description_tooltip": null,
       "layout": "IPY_MODEL_75033466b00848b289fa12652077cc26",
       "max": 200.0,
       "min": 0.0,
       "orientation": "horizontal",
       "style": "IPY_MODEL_3629cac69f7d43df9df9b51711c6d1bd",
       "value": 200.0
      }
     },
     "fabd611a6e9d41ac83e883160ac5a729": {
      "model_module": "@jupyter-widgets/controls",
      "model_module_version": "1.5.0",
      "model_name": "HTMLModel",
      "state": {
       "_dom_classes": [],
       "_model_module": "@jupyter-widgets/controls",
       "_model_module_version": "1.5.0",
       "_model_name": "HTMLModel",
       "_view_count": null,
       "_view_module": "@jupyter-widgets/controls",
       "_view_module_version": "1.5.0",
       "_view_name": "HTMLView",
       "description": "",
       "description_tooltip": null,
       "layout": "IPY_MODEL_477b0da5909440669d9b0a9f9bebfa9f",
       "placeholder": "​",
       "style": "IPY_MODEL_a1c262a57f6c4fdba7715ce75a79c1af",
       "value": "100%"
      }
     }
    },
    "version_major": 2,
    "version_minor": 0
   }
  }
 },
 "nbformat": 4,
 "nbformat_minor": 5
}
